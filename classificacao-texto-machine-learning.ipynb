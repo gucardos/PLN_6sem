{
  "nbformat": 4,
  "nbformat_minor": 0,
  "metadata": {
    "colab": {
      "provenance": [],
      "authorship_tag": "ABX9TyNXaOSRSBrW6yA3scy4STnG",
      "include_colab_link": true
    },
    "kernelspec": {
      "name": "python3",
      "display_name": "Python 3"
    },
    "language_info": {
      "name": "python"
    }
  },
  "cells": [
    {
      "cell_type": "markdown",
      "metadata": {
        "id": "view-in-github",
        "colab_type": "text"
      },
      "source": [
        "<a href=\"https://colab.research.google.com/github/gucardos/PLN_6sem/blob/main/Aula_11_PLN.ipynb\" target=\"_parent\"><img src=\"https://colab.research.google.com/assets/colab-badge.svg\" alt=\"Open In Colab\"/></a>"
      ]
    },
    {
      "cell_type": "markdown",
      "source": [
        "# <b>Aula 11 -</b> Pipeline de classificação de texto"
      ],
      "metadata": {
        "id": "sGwauTr_Cr9n"
      }
    },
    {
      "cell_type": "markdown",
      "source": [
        "## Exemplos de Roteiro"
      ],
      "metadata": {
        "id": "dzjwKDGnDW1S"
      }
    },
    {
      "cell_type": "markdown",
      "source": [
        "### <b>Etapa 0 -</b> Criando a base de dados a ser utilizada"
      ],
      "metadata": {
        "id": "XyS-1e7hDebw"
      }
    },
    {
      "cell_type": "code",
      "execution_count": null,
      "metadata": {
        "colab": {
          "base_uri": "https://localhost:8080/"
        },
        "id": "g3JCZUMGCdq7",
        "outputId": "d9c9cd05-5760-4718-8d96-44ba51310abc"
      },
      "outputs": [
        {
          "output_type": "stream",
          "name": "stdout",
          "text": [
            "Base de dados criada e salva em 'dados_rotulados.csv'\n"
          ]
        }
      ],
      "source": [
        "# Criando a base de dados a ser utilizada\n",
        "import pandas as pd\n",
        "\n",
        "# Criar um dicionário com dados de exemplo\n",
        "data = {\n",
        "    'texto': [\n",
        "        \"Este é um ótimo filme!\",\n",
        "        \"O produto é muito ruim.\",\n",
        "        \"Adorei o atendimento ao cliente.\",\n",
        "        \"A entrega atrasou e o produto veio com defeito.\",\n",
        "        \"Recomendo este livro para todos!\",\n",
        "        \"Não gostei da experiência.\",\n",
        "        \"O serviço foi excelente\",\n",
        "        \"Péssima qualidade, não comprem!\",\n",
        "        \"Amei o presente, muito obrigado!\",\n",
        "        \"Que decepção, perdi meu dinheiro.\"\n",
        "    ],\n",
        "    'categoria': [\n",
        "        \"Positivo\",\n",
        "        \"Negativo\",\n",
        "        \"Positivo\",\n",
        "        \"Negativo\",\n",
        "        \"Positivo\",\n",
        "        \"Negativo\",\n",
        "        \"Positivo\",\n",
        "        \"Negativo\",\n",
        "        \"Positivo\",\n",
        "        \"Negativo\"\n",
        "    ]\n",
        "}\n",
        "\n",
        "# Criar um DataFrame a partir do dicionário\n",
        "df = pd.DataFrame(data)\n",
        "\n",
        "# Salvar o DataFrame em um arquivo CSV\n",
        "df.to_csv('dados_rotulados.csv', index=False, encoding='utf-8')\n",
        "\n",
        "print(\"Base de dados criada e salva em 'dados_rotulados.csv'\")"
      ]
    },
    {
      "cell_type": "markdown",
      "source": [
        "### <b>Etapa 1-</b> Preparação dos dados"
      ],
      "metadata": {
        "id": "C5Qy12aLLRJp"
      }
    },
    {
      "cell_type": "code",
      "source": [
        "# Passo 1: Importar as bibliotecas necessárias\n",
        "import nltk\n",
        "import spacy\n",
        "import sklearn\n",
        "import pandas as pd\n",
        "import matplotlib.pyplot as plt\n",
        "import string\n",
        "from nltk.corpus import stopwords\n",
        "from nltk.tokenize import word_tokenize\n",
        "from nltk.stem import SnowballStemmer\n",
        "from sklearn.model_selection import train_test_split\n",
        "\n",
        "nltk.download('stopwords')\n",
        "nltk.download('punkt_tab')\n"
      ],
      "metadata": {
        "colab": {
          "base_uri": "https://localhost:8080/"
        },
        "id": "KPZaly2fPMjx",
        "outputId": "52a89a66-446d-40ef-f1c7-5969a20bcf22"
      },
      "execution_count": null,
      "outputs": [
        {
          "output_type": "stream",
          "name": "stderr",
          "text": [
            "[nltk_data] Downloading package stopwords to /root/nltk_data...\n",
            "[nltk_data]   Unzipping corpora/stopwords.zip.\n",
            "[nltk_data] Downloading package punkt_tab to /root/nltk_data...\n",
            "[nltk_data]   Unzipping tokenizers/punkt_tab.zip.\n"
          ]
        },
        {
          "output_type": "execute_result",
          "data": {
            "text/plain": [
              "True"
            ]
          },
          "metadata": {},
          "execution_count": 2
        }
      ]
    },
    {
      "cell_type": "code",
      "source": [
        "# Passo 2: Carregar o conjunto de dados de texto rotulado\n",
        "data = pd.read_csv('dados_rotulados.csv', encoding='utf-8')\n",
        "\n",
        "# Passo 3: Explorar e visualizar os dados\n",
        "print('Informações do conjunto de dados: ')\n",
        "print(data.info())\n",
        "\n",
        "print('\\nPrimeiras 5 linhas do conjunto de dados: ')\n",
        "print(data.head())\n",
        "\n",
        "# Distribuição das categorias\n",
        "plt.figure(figsize=(10, 5))\n",
        "data['categoria'].value_counts().plot(kind='bar')\n",
        "plt.title('Distribuição das categorias')\n",
        "plt.xlabel('Categoria')\n",
        "plt.ylabel('Contagem')\n",
        "plt.show()\n",
        "\n",
        "# Tamanho dos textos\n",
        "tamanhos_textos = data['texto'].apply(len)\n",
        "plt.figure(figsize=(10, 5))\n",
        "plt.hist(tamanhos_textos, bins=50)\n",
        "plt.title('Tamanho dos textos')\n",
        "plt.xlabel('Tamanho do texto')\n",
        "plt.ylabel('Frequência')\n",
        "plt.show()\n",
        "\n",
        "# Passo 4: Realizar o pré-processamento do texto\n",
        "def preprocessar_texto(texto):\n",
        "  # Passo 4.1: Limpar o texto\n",
        "  texto = texto.translate(str.maketrans('', '', string.punctuation))\n",
        "  texto = ''.join([ c for c in texto if not c.isdigit()])\n",
        "\n",
        "  # Passo 4.2: Tokenizar o texto\n",
        "  tokens = word_tokenize(texto.lower())\n",
        "\n",
        "  # Passo 4.3: Remover stopwords\n",
        "  stop_words = set(stopwords.words('portuguese'))\n",
        "  tokens = [palavra for palavra in tokens if palavra not in stop_words]\n",
        "\n",
        "  # Passo 4.4: Aplicar stemming ou lematização\n",
        "  stemmer = SnowballStemmer('portuguese')\n",
        "  tokens = [stemmer.stem(palavra) for palavra in tokens]\n",
        "  return ' '.join(tokens)\n",
        "\n",
        "# Aplicar a função de pré-processamento à coluna 'texto' do DataFrame.\n",
        "data['texto_processado'] = data['texto'].apply(preprocessar_texto)\n",
        "\n",
        "# Passo 5: Dividir os dados em conjuntos de treinamento e teste\n",
        "# Divide o conjunto de dados em conjuntos de treinamento e teste.\n",
        "# O conjunto de treinamento será usado para treinar o modelo de classificação.\n",
        "# O conjunto de teste será usado para avaliar o desempenho do modelo.\n",
        "X_train, X_test, y_train, y_test = train_test_split(\n",
        "    data['texto_processado'], data['categoria'], test_size=0.2, random_state=42)\n",
        "\n",
        "# Exibe o tamanho dos conjuntos de treinamento e teste.\n",
        "print('\\nTamanho do conjunto de treinamento:', len(X_train))\n",
        "print('Tamanho do conjunto de teste:', len(X_test))"
      ],
      "metadata": {
        "colab": {
          "base_uri": "https://localhost:8080/",
          "height": 1000
        },
        "id": "fIemtxgvTjWH",
        "outputId": "d7ddb253-3fd9-444c-bf00-8d79abf6badd"
      },
      "execution_count": null,
      "outputs": [
        {
          "output_type": "stream",
          "name": "stdout",
          "text": [
            "Informações do conjunto de dados: \n",
            "<class 'pandas.core.frame.DataFrame'>\n",
            "RangeIndex: 10 entries, 0 to 9\n",
            "Data columns (total 2 columns):\n",
            " #   Column     Non-Null Count  Dtype \n",
            "---  ------     --------------  ----- \n",
            " 0   texto      10 non-null     object\n",
            " 1   categoria  10 non-null     object\n",
            "dtypes: object(2)\n",
            "memory usage: 292.0+ bytes\n",
            "None\n",
            "\n",
            "Primeiras 5 linhas do conjunto de dados: \n",
            "                                             texto categoria\n",
            "0                           Este é um ótimo filme!  Positivo\n",
            "1                          O produto é muito ruim.  Negativo\n",
            "2                 Adorei o atendimento ao cliente.  Positivo\n",
            "3  A entrega atrasou e o produto veio com defeito.  Negativo\n",
            "4                 Recomendo este livro para todos!  Positivo\n"
          ]
        },
        {
          "output_type": "display_data",
          "data": {
            "text/plain": [
              "<Figure size 1000x500 with 1 Axes>"
            ],
            "image/png": "[encoded data removed]"
          },
          "metadata": {}
        },
        {
          "output_type": "display_data",
          "data": {
            "text/plain": [
              "<Figure size 1000x500 with 1 Axes>"
            ],
            "image/png": "[encoded data removed]"
          },
          "metadata": {}
        },
        {
          "output_type": "stream",
          "name": "stdout",
          "text": [
            "\n",
            "Tamanho do conjunto de treinamento: 8\n",
            "Tamanho do conjunto de teste: 2\n"
          ]
        }
      ]
    },
    {
      "cell_type": "markdown",
      "source": [
        "### <b>Etapa 2 - </b> Extração de características"
      ],
      "metadata": {
        "id": "iWLa2Pj6dRsL"
      }
    },
    {
      "cell_type": "code",
      "source": [
        "# Importação das bibliotecas utilizadas\n",
        "from sklearn.feature_extraction.text import TfidfVectorizer\n",
        "from sklearn.naive_bayes import MultinomialNB\n",
        "from sklearn.metrics import accuracy_score, classification_report\n",
        "\n",
        "# Etapa 2: Extração de características\n",
        "# Converte os textos pré-processados em representações numéricas usando TF-IDF.\n",
        "# TF-IDF é uma técnica que pondera a importância de cada palavra em um documento\n",
        "# em relação à sua frequência em todo o conjunto de documentos.\n",
        "vectorizer = TfidfVectorizer()\n",
        "X_train_tfidf = vectorizer.fit_transform(X_train)\n",
        "X_test_tfidf = vectorizer.transform(X_test)\n",
        "\n",
        "# Exibe o número de características extraídas\n",
        "print('\\nNúmero de características extraídas:', X_train_tfidf.shape[1])\n",
        "\n",
        "\n",
        "# Etapa 3: Treinamento do modelo\n",
        "# Treina um modelo de classificação Naives Bayes Multinomial usando os dados de treinamento.\n",
        "# Naives Bayes é um algoritmo simples e eficaz para a classificação de texto.\n",
        "modelo = MultinomialNB()\n",
        "modelo.fit(X_train_tfidf, y_train)\n",
        "\n",
        "# Etapa 4: Avaliação do modelo\n",
        "# Avalia o desempenho do modelo usando um conjunto de teste.\n",
        "# Calcula a acurácia e exibe um relatório de classificação detalhado.\n",
        "y_pred = modelo.predict(X_test_tfidf)\n",
        "acuracia = accuracy_score(y_test, y_pred)\n",
        "print('\\nAcurácia do modelo:', acuracia)\n",
        "print('\\nRelatório de classificação:', classification_report(y_test, y_pred))\n",
        "\n",
        "# Etapa 5: Classificação de um novo texto\n",
        "# Define uma função para classificar um novo texto usando o modelo treinado.\n",
        "def classificar_texto(texto, vectorizer, modelo):\n",
        "  # Preprocessa o texto de entrada\n",
        "  texto_processado = preprocessar_texto(texto)\n",
        "  # Converte o texto pré-processado em um vetor TF-IDF\n",
        "  texto_tfidf = vectorizer.transform([texto_processado])\n",
        "  # Classifica o texto usando um modelo treinado\n",
        "  categoria_prevista = modelo.predict(texto_tfidf)[0]\n",
        "  # (Opcional) Obtém as probabilidades de cada categoria\n",
        "  probabilidades = modelo.predict_proba(texto_tfidf)[0]\n",
        "  categorias = modelo.classes_\n",
        "  probabilidades_por_categoria = dict(zip(categorias, probabilidades))\n",
        "  return categoria_prevista, probabilidades_por_categoria\n",
        "\n",
        "# Exemplo de uso da função para classificar um novo texto\n",
        "novo_texto = \"Este filme é incrível! Recomendo a todos!\"\n",
        "categoria, probabilidades = classificar_texto(novo_texto, vectorizer, modelo)\n",
        "print('\\nNovo Texto:', novo_texto)\n",
        "print('Categoria prevista:', categoria)\n",
        "print('Probabilidades por categoria:', probabilidades)"
      ],
      "metadata": {
        "colab": {
          "base_uri": "https://localhost:8080/"
        },
        "id": "4NLFu4tXd_gv",
        "outputId": "42f77aff-a631-4d5e-83f2-bfe094821d1f"
      },
      "execution_count": null,
      "outputs": [
        {
          "output_type": "stream",
          "name": "stdout",
          "text": [
            "\n",
            "Número de características extraídas: 23\n",
            "\n",
            "Acurácia do modelo: 0.5\n",
            "\n",
            "Relatório de classificação:               precision    recall  f1-score   support\n",
            "\n",
            "    Negativo       0.50      1.00      0.67         1\n",
            "    Positivo       0.00      0.00      0.00         1\n",
            "\n",
            "    accuracy                           0.50         2\n",
            "   macro avg       0.25      0.50      0.33         2\n",
            "weighted avg       0.25      0.50      0.33         2\n",
            "\n",
            "\n",
            "Novo Texto: Este filme é incrível! Recomendo a todos!\n",
            "Categoria prevista: Positivo\n",
            "Probabilidades por categoria: {np.str_('Negativo'): np.float64(0.29256806327043555), np.str_('Positivo'): np.float64(0.7074319367295648)}\n"
          ]
        },
        {
          "output_type": "stream",
          "name": "stderr",
          "text": [
            "/usr/local/lib/python3.11/dist-packages/sklearn/metrics/_classification.py:1565: UndefinedMetricWarning: Precision is ill-defined and being set to 0.0 in labels with no predicted samples. Use `zero_division` parameter to control this behavior.\n",
            "  _warn_prf(average, modifier, f\"{metric.capitalize()} is\", len(result))\n",
            "/usr/local/lib/python3.11/dist-packages/sklearn/metrics/_classification.py:1565: UndefinedMetricWarning: Precision is ill-defined and being set to 0.0 in labels with no predicted samples. Use `zero_division` parameter to control this behavior.\n",
            "  _warn_prf(average, modifier, f\"{metric.capitalize()} is\", len(result))\n",
            "/usr/local/lib/python3.11/dist-packages/sklearn/metrics/_classification.py:1565: UndefinedMetricWarning: Precision is ill-defined and being set to 0.0 in labels with no predicted samples. Use `zero_division` parameter to control this behavior.\n",
            "  _warn_prf(average, modifier, f\"{metric.capitalize()} is\", len(result))\n"
          ]
        }
      ]
    },
    {
      "cell_type": "markdown",
      "source": [
        "### <b>Etapa 3 -</b> Treinamento do modelo"
      ],
      "metadata": {
        "id": "YQ6Cb5q1oGrg"
      }
    },
    {
      "cell_type": "code",
      "source": [
        "# Importação das ferramentas utilizadas\n",
        "from sklearn.linear_model import LogisticRegression\n",
        "from sklearn.svm import SVC\n",
        "from sklearn.model_selection import GridSearchCV\n",
        "\n",
        "# Etapa 3: Treinamento do modelo\n",
        "# Passo 1: Escolher um ou mais modelos de aprendizado de máquina para classificação\n",
        "# (Naives Bayes, Regressão Logística, SVM, Transformers).\n",
        "# Neste código, serão utilizados Naives Bayes, Regressão Logística e SVM.\n",
        "# Passo 2: Instanciar os modelos\n",
        "# Instancia os modelos de aprendizado de máquina.\n",
        "naive_bayes_model = MultinomialNB()\n",
        "logistic_regression_model = LogisticRegression()\n",
        "svm_model = SVC(random_state=42, probability=True)\n",
        "\n",
        "# Passo 3: Treinar os modelos usando os dados de treinamento e as representações de texto extraídas\n",
        "# Treina os modelos usando os dados de treinamento e as representações TF-IDF.\n",
        "naive_bayes_model.fit(X_train_tfidf, y_train)\n",
        "logistic_regression_model.fit(X_train_tfidf, y_train)\n",
        "svm_model.fit(X_train_tfidf, y_train)\n",
        "\n",
        "# Passo 4: Ajustar os hiperparâmetros dos modelos usando validação cruzada (opcional)\n",
        "# Define os hiperparâmetros a serem ajustados para cada modelo.\n",
        "param_grid_nb = {} # Naive Bayes não possui hiperparâmetros significativos para ajustar\n",
        "param_grid_lr = {'C': [0.1, 1, 10], 'solver':['liblinear','lbfgs']}\n",
        "param_grid_svm = {'C': [0.1, 1, 10], 'kernel': ['linear', 'rbf']}\n",
        "\n",
        "# Realiza a busca em grade com validação cruzada para encontrar os melhores hiperparâmetros.\n",
        "grid_search_lr = GridSearchCV(logistic_regression_model, param_grid_lr, cv=2)\n",
        "grid_search_svm = GridSearchCV(svm_model, param_grid_svm, cv=2)\n",
        "grid_search_lr.fit(X_train_tfidf, y_train)\n",
        "grid_search_svm.fit(X_train_tfidf, y_train)\n",
        "\n",
        "# Imprime os melhores hiperparâmetros encontrados.\n",
        "print('\\nMelhores hiperparâmetros para a regressão logística:', grid_search_lr.best_params_)\n",
        "print('Melhores hiperparâmetros para o SVM:', grid_search_svm.best_params_)\n",
        "\n",
        "# Obtém os modelos com os melhores hiperparâmetros.\n",
        "best_logistic_regression_model = grid_search_lr.best_estimator_\n",
        "best_svm_model = grid_search_svm.best_estimator_\n",
        "\n",
        "# Passo 5: Avaliação do modelo\n",
        "# Avalia o desempenho dos modelos usando o conjunto de teste.\n",
        "# Calcula a acurácia e exibe um relatório de classificação detalhado para cada modelo.\n",
        "print('\\nResultados da avaliação:')\n",
        "\n",
        "# Avaliação do modelo Naive Bayes:\n",
        "y_pred_nb = naive_bayes_model.predict(X_test_tfidf)\n",
        "acuracia_nb = accuracy_score(y_test, y_pred_nb)\n",
        "print('\\nNaive Bayes Multinomial:')\n",
        "print('Acurácia:', acuracia_nb)\n",
        "print('Relatório de classificação:', classification_report(y_test, y_pred_nb))\n",
        "\n",
        "# Avaliação do modelo de Regressão Logística\n",
        "y_pred_lr = best_logistic_regression_model.predict(X_test_tfidf)\n",
        "acuracia_lr = accuracy_score(y_test, y_pred_lr)\n",
        "print('\\nRegressão Logística:')\n",
        "print('Acurácia:', acuracia_lr)\n",
        "print('Relatório de classificação:', classification_report(y_test, y_pred_lr))\n",
        "\n",
        "# Avaliação do modelo SVM\n",
        "y_pred_svm = best_svm_model.predict(X_test_tfidf)\n",
        "acuracia_svm = accuracy_score(y_test, y_pred_svm)\n",
        "print('\\nSVM:')\n",
        "print('Acurácia:', acuracia_svm)\n",
        "print('Relatório de classificação:', classification_report(y_test, y_pred_svm))\n",
        "\n",
        "# Passo 6: Classificação de um novo texto\n",
        "# Define uma função para classificar um novo texto usando o modelo treinado\n",
        "def classificar_texto(texto, vectorizer, modelo):\n",
        "  # Processa o texto de entrada\n",
        "  texto_processado = preprocessar_texto(texto)\n",
        "  # Converte o texto pré-processado em um vetor TF-IDF\n",
        "  texto_tfidf = vectorizer.transform([texto_processado])\n",
        "  # Classifica o texto usando um modelo treinado\n",
        "  categoria_prevista = modelo.predict(texto_tfidf)[0]\n",
        "  # (Opcional) Obtém as probabilidades de cada categoria\n",
        "  probabilidades = modelo.predict_proba(texto_tfidf)[0]\n",
        "  categorias = modelo.classes_\n",
        "  probabilidades_por_categoria = dict(zip(categorias, probabilidades))\n",
        "  return categoria_prevista, probabilidades_por_categoria"
      ],
      "metadata": {
        "colab": {
          "base_uri": "https://localhost:8080/"
        },
        "id": "HStEgq8EoYRY",
        "outputId": "20ea6510-9023-4960-bfa6-3e6ddd08d6b0"
      },
      "execution_count": null,
      "outputs": [
        {
          "output_type": "stream",
          "name": "stdout",
          "text": [
            "\n",
            "Melhores hiperparâmetros para a regressão logística: {'C': 0.1, 'solver': 'liblinear'}\n",
            "Melhores hiperparâmetros para o SVM: {'C': 1, 'kernel': 'rbf'}\n",
            "\n",
            "Resultados da avaliação:\n",
            "\n",
            "Naive Bayes Multinomial:\n",
            "Acurácia: 0.5\n",
            "Relatório de classificação:               precision    recall  f1-score   support\n",
            "\n",
            "    Negativo       0.50      1.00      0.67         1\n",
            "    Positivo       0.00      0.00      0.00         1\n",
            "\n",
            "    accuracy                           0.50         2\n",
            "   macro avg       0.25      0.50      0.33         2\n",
            "weighted avg       0.25      0.50      0.33         2\n",
            "\n",
            "\n",
            "Regressão Logística:\n",
            "Acurácia: 0.5\n",
            "Relatório de classificação:               precision    recall  f1-score   support\n",
            "\n",
            "    Negativo       0.50      1.00      0.67         1\n",
            "    Positivo       0.00      0.00      0.00         1\n",
            "\n",
            "    accuracy                           0.50         2\n",
            "   macro avg       0.25      0.50      0.33         2\n",
            "weighted avg       0.25      0.50      0.33         2\n",
            "\n",
            "\n",
            "SVM:\n",
            "Acurácia: 1.0\n",
            "Relatório de classificação:               precision    recall  f1-score   support\n",
            "\n",
            "    Negativo       1.00      1.00      1.00         1\n",
            "    Positivo       1.00      1.00      1.00         1\n",
            "\n",
            "    accuracy                           1.00         2\n",
            "   macro avg       1.00      1.00      1.00         2\n",
            "weighted avg       1.00      1.00      1.00         2\n",
            "\n"
          ]
        },
        {
          "output_type": "stream",
          "name": "stderr",
          "text": [
            "/usr/local/lib/python3.11/dist-packages/sklearn/metrics/_classification.py:1565: UndefinedMetricWarning: Precision is ill-defined and being set to 0.0 in labels with no predicted samples. Use `zero_division` parameter to control this behavior.\n",
            "  _warn_prf(average, modifier, f\"{metric.capitalize()} is\", len(result))\n",
            "/usr/local/lib/python3.11/dist-packages/sklearn/metrics/_classification.py:1565: UndefinedMetricWarning: Precision is ill-defined and being set to 0.0 in labels with no predicted samples. Use `zero_division` parameter to control this behavior.\n",
            "  _warn_prf(average, modifier, f\"{metric.capitalize()} is\", len(result))\n",
            "/usr/local/lib/python3.11/dist-packages/sklearn/metrics/_classification.py:1565: UndefinedMetricWarning: Precision is ill-defined and being set to 0.0 in labels with no predicted samples. Use `zero_division` parameter to control this behavior.\n",
            "  _warn_prf(average, modifier, f\"{metric.capitalize()} is\", len(result))\n",
            "/usr/local/lib/python3.11/dist-packages/sklearn/metrics/_classification.py:1565: UndefinedMetricWarning: Precision is ill-defined and being set to 0.0 in labels with no predicted samples. Use `zero_division` parameter to control this behavior.\n",
            "  _warn_prf(average, modifier, f\"{metric.capitalize()} is\", len(result))\n",
            "/usr/local/lib/python3.11/dist-packages/sklearn/metrics/_classification.py:1565: UndefinedMetricWarning: Precision is ill-defined and being set to 0.0 in labels with no predicted samples. Use `zero_division` parameter to control this behavior.\n",
            "  _warn_prf(average, modifier, f\"{metric.capitalize()} is\", len(result))\n",
            "/usr/local/lib/python3.11/dist-packages/sklearn/metrics/_classification.py:1565: UndefinedMetricWarning: Precision is ill-defined and being set to 0.0 in labels with no predicted samples. Use `zero_division` parameter to control this behavior.\n",
            "  _warn_prf(average, modifier, f\"{metric.capitalize()} is\", len(result))\n"
          ]
        }
      ]
    },
    {
      "cell_type": "code",
      "source": [
        "# Exemplo da função para classificar um novo texto\n",
        "novo_texto = \"Este filme é incrível! Recomendo a todos!\"\n",
        "categoria_nb, probabilidades_nb = classificar_texto(novo_texto, vectorizer, naive_bayes_model)\n",
        "categoria_lr, probabilidades_lr = classificar_texto(novo_texto, vectorizer, best_logistic_regression_model)\n",
        "categoria_svm, probabilidades_svm = classificar_texto(novo_texto, vectorizer, best_svm_model)\n",
        "\n",
        "print('\\nNovo Texto:', novo_texto)\n",
        "print('\\nResultados da classificação:')\n",
        "print('\\nNaive Bayes Multinomial:')\n",
        "print('Categoria prevista:', categoria_nb)\n",
        "print('Probabilidades por categoria:', probabilidades_nb)\n",
        "print('\\nRegressão Logística:')\n",
        "print('Categoria prevista:', categoria_lr)\n",
        "print('Probabilidades por categoria:', probabilidades_lr)\n",
        "print('\\nSVM:')\n",
        "print('Categoria prevista:', categoria_svm)\n",
        "print('Probabilidades por categoria:', probabilidades_svm)"
      ],
      "metadata": {
        "colab": {
          "base_uri": "https://localhost:8080/"
        },
        "id": "q4y-RKFH-jfU",
        "outputId": "8b682205-8cf7-43a0-fedf-3a194bdc9a69"
      },
      "execution_count": null,
      "outputs": [
        {
          "output_type": "stream",
          "name": "stdout",
          "text": [
            "\n",
            "Novo Texto: Este filme é incrível! Recomendo a todos!\n",
            "\n",
            "Resultados da classificação:\n",
            "\n",
            "Naive Bayes Multinomial:\n",
            "Categoria prevista: Positivo\n",
            "Probabilidades por categoria: {np.str_('Negativo'): np.float64(0.29256806327043555), np.str_('Positivo'): np.float64(0.7074319367295648)}\n",
            "\n",
            "Regressão Logística:\n",
            "Categoria prevista: Positivo\n",
            "Probabilidades por categoria: {'Negativo': np.float64(0.4868942836287754), 'Positivo': np.float64(0.5131057163712246)}\n",
            "\n",
            "SVM:\n",
            "Categoria prevista: Positivo\n",
            "Probabilidades por categoria: {'Negativo': np.float64(0.8817303978937229), 'Positivo': np.float64(0.11826960210627731)}\n"
          ]
        }
      ]
    },
    {
      "cell_type": "markdown",
      "source": [
        "### <b>Etapa 4 -</b> Avaliação do modelo"
      ],
      "metadata": {
        "id": "2oeffA9ZAq9K"
      }
    },
    {
      "cell_type": "code",
      "source": [
        "# Etapa 4: Avaliação do modelo.\n",
        "# Passo 1: Fazer previsões no conjunto de teste usando os modelos treinados.\n",
        "# Passo 2: Calcular as métricas de desempenho apropriadas (precisão, revocação, F1-score, acurácia).\n",
        "# Passo 3: Exibir e analizar os resultados.\n",
        "\n",
        "print(\"\\nEtapa 4: Avaliação do modelo\")\n",
        "print(\"\\nResultados da avaliação:\")\n",
        "\n",
        "# Avaliação do modelo Naive Bayes\n",
        "y_pred_nb = naive_bayes_model.predict(X_test_tfidf)\n",
        "acuracia_nb = accuracy_score(y_test, y_pred_nb)\n",
        "print(\"\\nNaive Bayes Multinomial:\")\n",
        "print(\"Acurácia:\", acuracia_nb)\n",
        "print(\"Relatório de classificação:\", classification_report(y_test, y_pred_nb, zero_division=0))\n",
        "\n",
        "# Avaliação do modelo de Regressão Logística\n",
        "y_pred_lr = best_logistic_regression_model.predict(X_test_tfidf)\n",
        "acuracia_lr = accuracy_score(y_test, y_pred_lr)\n",
        "print(\"\\nRegressão Logística:\")\n",
        "print(\"Acurácia:\", acuracia_lr)\n",
        "print(\"Relatório de classificação:\", classification_report(y_test, y_pred_lr, zero_division=0))\n",
        "\n",
        "# Avaliação do modelo SVM\n",
        "y_pred_svm = best_svm_model.predict(X_test_tfidf)\n",
        "acuracia_svm = accuracy_score(y_test, y_pred_svm)\n",
        "print(\"\\nSVM:\")\n",
        "print(\"Acurácia:\", acuracia_svm)\n",
        "print(\"Relatório de classificação:\", classification_report(y_test, y_pred_svm, zero_division=0))\n",
        "\n",
        "\n",
        "# Passo 4: Comparar o desempenho dos diferentes modelos.\n",
        "print(\"\\nComparação dos modelos:\")\n",
        "print(f\"Acurácia Naive Bayes:{acuracia_nb:.4f}\")\n",
        "print(f\"Acurácia Regressão Logística:{acuracia_lr:.4f}\")\n",
        "print(f\"Acurácia SVM:{acuracia_svm:.4f}\")\n",
        "\n",
        "modelos = ['Naive Bayes', 'Regressão Logística', 'SVM']\n",
        "acuracias = [acuracia_nb, acuracia_lr, acuracia_svm]\n",
        "\n",
        "plt.figure(figsize=(8, 6))\n",
        "plt.bar(modelos, acuracias, color=['blue', 'green', 'red'])\n",
        "plt.xlabel('Modelos')\n",
        "plt.ylabel('Acurácia')\n",
        "plt.title('Comparação de Acurácia dos Modelos')\n",
        "plt.ylim(0,1) # Define o limite do eixo y para 0 e 1\n",
        "plt.show()"
      ],
      "metadata": {
        "id": "ofEMgzXNEN5J",
        "colab": {
          "base_uri": "https://localhost:8080/",
          "height": 1000
        },
        "outputId": "0d6ddb4e-217c-4534-be55-44a4e97373bc"
      },
      "execution_count": null,
      "outputs": [
        {
          "output_type": "stream",
          "name": "stdout",
          "text": [
            "\n",
            "Etapa 4: Avaliação do modelo\n",
            "\n",
            "Resultados da avaliação:\n",
            "\n",
            "Naive Bayes Multinomial:\n",
            "Acurácia: 0.5\n",
            "Relatório de classificação:               precision    recall  f1-score   support\n",
            "\n",
            "    Negativo       0.50      1.00      0.67         1\n",
            "    Positivo       0.00      0.00      0.00         1\n",
            "\n",
            "    accuracy                           0.50         2\n",
            "   macro avg       0.25      0.50      0.33         2\n",
            "weighted avg       0.25      0.50      0.33         2\n",
            "\n",
            "\n",
            "Regressão Logística:\n",
            "Acurácia: 0.5\n",
            "Relatório de classificação:               precision    recall  f1-score   support\n",
            "\n",
            "    Negativo       0.50      1.00      0.67         1\n",
            "    Positivo       0.00      0.00      0.00         1\n",
            "\n",
            "    accuracy                           0.50         2\n",
            "   macro avg       0.25      0.50      0.33         2\n",
            "weighted avg       0.25      0.50      0.33         2\n",
            "\n",
            "\n",
            "SVM:\n",
            "Acurácia: 1.0\n",
            "Relatório de classificação:               precision    recall  f1-score   support\n",
            "\n",
            "    Negativo       1.00      1.00      1.00         1\n",
            "    Positivo       1.00      1.00      1.00         1\n",
            "\n",
            "    accuracy                           1.00         2\n",
            "   macro avg       1.00      1.00      1.00         2\n",
            "weighted avg       1.00      1.00      1.00         2\n",
            "\n",
            "\n",
            "Comparação dos modelos:\n",
            "Acurácia Naive Bayes:0.5000\n",
            "Acurácia Regressão Logística:0.5000\n",
            "Acurácia SVM:1.0000\n"
          ]
        },
        {
          "output_type": "display_data",
          "data": {
            "text/plain": [
              "<Figure size 800x600 with 1 Axes>"
            ],
            "image/png": "[encoded data removed]"
          },
          "metadata": {}
        }
      ]
    },
    {
      "cell_type": "markdown",
      "source": [
        "### <b>Etapa 5 -</b> Classificação de um novo texto"
      ],
      "metadata": {
        "id": "KP-WvPi6_s6K"
      }
    },
    {
      "cell_type": "code",
      "source": [
        "# Etapa 5: Classificação de um novo texto\n",
        "# Passo 1: Pré-processar o novo texto de entrada usando as mesmas etapas da Etapa 1.\n",
        "# Passo 2: Extrair as características do novo texto usando o mesmo método da Etapa 2.\n",
        "# Passo 3: Usar o modelo treinado para prever a categoria do novo texto.\n",
        "# Passo 4: Exibir a categoria prevista e (opcionalmente) as probabilidades de cada categoria.\n",
        "print(\"\\nEtapa 5: Classificação de um novo texto\")\n",
        "\n",
        "def classificar_novo_texto(texto, vectorizer, modelo):\n",
        "  \"\"\"\n",
        "  Classifica um novo texto de entrada usando um modelo treinado.\n",
        "\n",
        "  Args:\n",
        "    texto (str): O texto a ser classificado.\n",
        "    vectorizer: O vetorizador TF-IDF usado para extrair as características do texto.\n",
        "    modelo: O modelo de aprendizado de máquina treinado.\n",
        "\n",
        "  Returns:\n",
        "    str: A categoria prevista para o texto.\n",
        "    dict: As probabilidades de o texto pertencer a cada categoria.\n",
        "  \"\"\"\n",
        "  # Passo 1: Pré-processar o novo texto de entrada usando as mesmas etapas da Etapa 1.\n",
        "  texto_processado = preprocessar_texto(texto)\n",
        "\n",
        "  # Passo 2: Extrair as características do novo texto usando o mesmo método da Etapa 2.\n",
        "  texto_tfidf = vectorizer.transform([texto_processado])\n",
        "\n",
        "  # Passo 3: Usar o modelo treinado para prever a categoria do novo texto.\n",
        "  categoria_prevista = modelo.predict(texto_tfidf)[0]\n",
        "\n",
        "  # Passo 4: Exibir a categoria prevista e (opcionalmente) as probabilidades de cada categoria.\n",
        "  try:\n",
        "    probabilidades = modelo.predict_proba(texto_tfidf)[0]\n",
        "    categorias = modelo.classes_\n",
        "    probabilidades_por_categoria = dict(zip(categorias, probabilidades))\n",
        "    return categoria_prevista, probabilidades_por_categoria\n",
        "  except AttributeError:\n",
        "    return categoria_prevista, {} # Modelos como SVM podem não ter predict_proba\n",
        "\n",
        "# Exemplo de uso da função para classificar um novo texto\n",
        "novo_texto = \"Este filme é incrível! Recomendo a todos!\"\n",
        "\n",
        "print(\"\\nNovo texto\", novo_texto)\n",
        "print(\"\\nResultados da classificação:\")\n",
        "\n",
        "# Classificar usando o modelo Naive Bayes\n",
        "categoria_nb, probabilidades_nb = classificar_novo_texto(novo_texto, vectorizer, naive_bayes_model)\n",
        "print(\"\\nNaive Bayes:\")\n",
        "print(\"Categoria prevista:\", categoria_nb)\n",
        "if probabilidades_nb:\n",
        "  print(\"Probabilidades por categoria:\", probabilidades_nb)\n",
        "\n",
        "# Classificar usando Regressão Logística\n",
        "categoria_lr, probabilidades_lr = classificar_novo_texto(novo_texto, vectorizer, best_logistic_regression_model)\n",
        "print(\"\\nRegressão Logística:\")\n",
        "print(\"Categoria prevista:\", categoria_lr)\n",
        "if probabilidades_lr:\n",
        "  print(\"Probabilidades por categoria:\", probabilidades_lr)\n",
        "\n",
        "# Classificar usando SVM\n",
        "categoria_svm, probabilidades_svm = classificar_novo_texto(novo_texto, vectorizer, best_svm_model)\n",
        "print(\"\\nSVM:\")\n",
        "print(\"Categoria prevista:\", categoria_svm)\n",
        "if probabilidades_svm:\n",
        "  print(\"Probabilidades por categoria:\", probabilidades_svm)\n"
      ],
      "metadata": {
        "colab": {
          "base_uri": "https://localhost:8080/"
        },
        "id": "fVajEv2cAOGh",
        "outputId": "682d20dc-0848-45c5-f7a3-7790b8bf8f92"
      },
      "execution_count": null,
      "outputs": [
        {
          "output_type": "stream",
          "name": "stdout",
          "text": [
            "\n",
            "Etapa 5: Classificação de um novo texto\n",
            "\n",
            "Novo texto Este filme é incrível! Recomendo a todos!\n",
            "\n",
            "Resultados da classificação:\n",
            "\n",
            "Naive Bayes:\n",
            "Categoria prevista: Positivo\n",
            "Probabilidades por categoria: {np.str_('Negativo'): np.float64(0.29256806327043555), np.str_('Positivo'): np.float64(0.7074319367295648)}\n",
            "\n",
            "Regressão Logística:\n",
            "Categoria prevista: Positivo\n",
            "Probabilidades por categoria: {'Negativo': np.float64(0.4868942836287754), 'Positivo': np.float64(0.5131057163712246)}\n",
            "\n",
            "SVM:\n",
            "Categoria prevista: Positivo\n",
            "Probabilidades por categoria: {'Negativo': np.float64(0.8817303978937229), 'Positivo': np.float64(0.11826960210627731)}\n"
          ]
        }
      ]
    }
  ]
}