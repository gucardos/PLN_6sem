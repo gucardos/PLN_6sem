{
  "nbformat": 4,
  "nbformat_minor": 0,
  "metadata": {
    "colab": {
      "provenance": [],
      "authorship_tag": "ABX9TyP1baLjc6Zx68gO9vRgahue",
      "include_colab_link": true
    },
    "kernelspec": {
      "name": "python3",
      "display_name": "Python 3"
    },
    "language_info": {
      "name": "python"
    }
  },
  "cells": [
    {
      "cell_type": "markdown",
      "metadata": {
        "id": "view-in-github",
        "colab_type": "text"
      },
      "source": [
        "<a href=\"https://colab.research.google.com/github/gucardos/PLN_6sem/blob/main/Aula06_PLN.ipynb\" target=\"_parent\"><img src=\"https://colab.research.google.com/assets/colab-badge.svg\" alt=\"Open In Colab\"/></a>"
      ]
    },
    {
      "cell_type": "markdown",
      "source": [
        "# Exemplo 01 - Representação do significado das palavras e frases com redes semânticas"
      ],
      "metadata": {
        "id": "SFOEC5r00LEH"
      }
    },
    {
      "cell_type": "code",
      "execution_count": null,
      "metadata": {
        "colab": {
          "base_uri": "https://localhost:8080/"
        },
        "id": "JcrH7adAzvEZ",
        "outputId": "0e587547-f346-4e24-8dd3-bbd1644cb422"
      },
      "outputs": [
        {
          "output_type": "stream",
          "name": "stdout",
          "text": [
            "[Synset('beach_wagon.n.01'), Synset('car.n.01'), Synset('car.n.02'), Synset('cart.n.01')]\n",
            "beach_wagon\n",
            "car\n",
            "car\n",
            "cart\n"
          ]
        },
        {
          "output_type": "stream",
          "name": "stderr",
          "text": [
            "[nltk_data] Downloading package wordnet to /root/nltk_data...\n",
            "[nltk_data]   Package wordnet is already up-to-date!\n",
            "[nltk_data] Downloading package omw-1.4 to /root/nltk_data...\n",
            "[nltk_data]   Package omw-1.4 is already up-to-date!\n"
          ]
        }
      ],
      "source": [
        "import nltk\n",
        "from nltk.corpus import wordnet\n",
        "\n",
        "nltk.download('wordnet')\n",
        "  # banco de dados para a utilização do sinônimos\n",
        "nltk.download('omw-1.4')\n",
        "  # corpus que relaciona as palavraas em diversos idiomas - tradução automática\n",
        "\n",
        "# método para encontrar os sinônimos da palavra indicada e o idioma\n",
        "sinonimos = wordnet.synsets(\"carro\", lang='por')\n",
        "\n",
        "print(sinonimos) # imprime a lista gerada\n",
        "\n",
        "for s in sinonimos:\n",
        "  print(s.lemmas()[0].name()) # mostra os sinonimos da palavra\n",
        "    # s.lemmas(): obtém a lista de lemmas (formas básicas das palavras) no synset atual\n",
        "    # [0]: pega o primeiro lema da lista.\n",
        "    # .name(): obtém o nome do lemma (o sinônimo em sí)\n",
        "    # print(): imprime o sinônimo na tela"
      ]
    },
    {
      "cell_type": "markdown",
      "source": [
        "# Exemplo 02 - Representação das palvras e frases por vetores (Embeddings)."
      ],
      "metadata": {
        "id": "L09lCdTA5bmT"
      }
    },
    {
      "cell_type": "code",
      "source": [
        "!python -m spacy download pt_core_news_md\n",
        "\n",
        "import spacy\n",
        "\n",
        "# carregando o modelo pré treinado - modelo com relações entre palavras\n",
        "nlp = spacy.load('pt_core_news_md')\n",
        "\n",
        "# criação de objetos com suas informações e vetores\n",
        "palavra1 = nlp('rei')\n",
        "palavra2 = nlp('rainha')\n",
        "\n",
        "# calculo de similaridade dos objetos vetorizados\n",
        "print(palavra1.similarity(palavra2))"
      ],
      "metadata": {
        "colab": {
          "base_uri": "https://localhost:8080/"
        },
        "id": "hVLT5Eaa51NG",
        "outputId": "589dacc8-a296-41ac-e108-3d9b90761e51"
      },
      "execution_count": null,
      "outputs": [
        {
          "output_type": "stream",
          "name": "stdout",
          "text": [
            "Collecting pt-core-news-md==3.8.0\n",
            "  Downloading https://github.com/explosion/spacy-models/releases/download/pt_core_news_md-3.8.0/pt_core_news_md-3.8.0-py3-none-any.whl (42.4 MB)\n",
            "\u001b[2K     \u001b[90m━━━━━━━━━━━━━━━━━━━━━━━━━━━━━━━━━━━━━━━━\u001b[0m \u001b[32m42.4/42.4 MB\u001b[0m \u001b[31m15.9 MB/s\u001b[0m eta \u001b[36m0:00:00\u001b[0m\n",
            "\u001b[?25h\u001b[38;5;2m✔ Download and installation successful\u001b[0m\n",
            "You can now load the package via spacy.load('pt_core_news_md')\n",
            "\u001b[38;5;3m⚠ Restart to reload dependencies\u001b[0m\n",
            "If you are in a Jupyter or Colab notebook, you may need to restart Python in\n",
            "order to load all the package's dependencies. You can do this by selecting the\n",
            "'Restart kernel' or 'Restart runtime' option.\n",
            "0.6001228094100952\n"
          ]
        }
      ]
    },
    {
      "cell_type": "markdown",
      "source": [
        "# Exemplo 03 - Árvore sintática"
      ],
      "metadata": {
        "id": "dHR308107vxt"
      }
    },
    {
      "cell_type": "code",
      "source": [
        "!python -m spacy download pt_core_news_sm"
      ],
      "metadata": {
        "colab": {
          "base_uri": "https://localhost:8080/"
        },
        "collapsed": true,
        "id": "LXJUNlIU75YO",
        "outputId": "e006200c-ee7e-4fcc-d187-e91984674ce8"
      },
      "execution_count": null,
      "outputs": [
        {
          "output_type": "stream",
          "name": "stdout",
          "text": [
            "Collecting pt-core-news-sm==3.8.0\n",
            "  Downloading https://github.com/explosion/spacy-models/releases/download/pt_core_news_sm-3.8.0/pt_core_news_sm-3.8.0-py3-none-any.whl (13.0 MB)\n",
            "\u001b[2K     \u001b[90m━━━━━━━━━━━━━━━━━━━━━━━━━━━━━━━━━━━━━━━━\u001b[0m \u001b[32m13.0/13.0 MB\u001b[0m \u001b[31m45.1 MB/s\u001b[0m eta \u001b[36m0:00:00\u001b[0m\n",
            "\u001b[?25h\u001b[38;5;2m✔ Download and installation successful\u001b[0m\n",
            "You can now load the package via spacy.load('pt_core_news_sm')\n",
            "\u001b[38;5;3m⚠ Restart to reload dependencies\u001b[0m\n",
            "If you are in a Jupyter or Colab notebook, you may need to restart Python in\n",
            "order to load all the package's dependencies. You can do this by selecting the\n",
            "'Restart kernel' or 'Restart runtime' option.\n"
          ]
        }
      ]
    },
    {
      "cell_type": "code",
      "source": [
        "import spacy\n",
        "from spacy import displacy\n",
        "  # módulo para visualização de dependências\n",
        "\n",
        "nlp = spacy.load('pt_core_news_sm')\n",
        "frase = \"O cachorro correu no parque.\"\n",
        "doc = nlp(frase)\n",
        "\n",
        "displacy.render(doc, style='dep', jupyter=True)"
      ],
      "metadata": {
        "colab": {
          "base_uri": "https://localhost:8080/",
          "height": 333
        },
        "collapsed": true,
        "id": "i-vQWj7l8Fn0",
        "outputId": "b28ed828-f9f8-4e55-f85b-b3884861e790"
      },
      "execution_count": null,
      "outputs": [
        {
          "output_type": "display_data",
          "data": {
            "text/plain": [
              "<IPython.core.display.HTML object>"
            ],
            "text/html": [
              "<span class=\"tex2jax_ignore\"><svg xmlns=\"http://www.w3.org/2000/svg\" xmlns:xlink=\"http://www.w3.org/1999/xlink\" xml:lang=\"pt\" id=\"dbeb20ba1cbc4774b16ea55a5df9a71f-0\" class=\"displacy\" width=\"925\" height=\"312.0\" direction=\"ltr\" style=\"max-width: none; height: 312.0px; color: #000000; background: #ffffff; font-family: Arial; direction: ltr\">\n",
              "<text class=\"displacy-token\" fill=\"currentColor\" text-anchor=\"middle\" y=\"222.0\">\n",
              "    <tspan class=\"displacy-word\" fill=\"currentColor\" x=\"50\">O</tspan>\n",
              "    <tspan class=\"displacy-tag\" dy=\"2em\" fill=\"currentColor\" x=\"50\">DET</tspan>\n",
              "</text>\n",
              "\n",
              "<text class=\"displacy-token\" fill=\"currentColor\" text-anchor=\"middle\" y=\"222.0\">\n",
              "    <tspan class=\"displacy-word\" fill=\"currentColor\" x=\"225\">cachorro</tspan>\n",
              "    <tspan class=\"displacy-tag\" dy=\"2em\" fill=\"currentColor\" x=\"225\">NOUN</tspan>\n",
              "</text>\n",
              "\n",
              "<text class=\"displacy-token\" fill=\"currentColor\" text-anchor=\"middle\" y=\"222.0\">\n",
              "    <tspan class=\"displacy-word\" fill=\"currentColor\" x=\"400\">correu</tspan>\n",
              "    <tspan class=\"displacy-tag\" dy=\"2em\" fill=\"currentColor\" x=\"400\">VERB</tspan>\n",
              "</text>\n",
              "\n",
              "<text class=\"displacy-token\" fill=\"currentColor\" text-anchor=\"middle\" y=\"222.0\">\n",
              "    <tspan class=\"displacy-word\" fill=\"currentColor\" x=\"575\">no</tspan>\n",
              "    <tspan class=\"displacy-tag\" dy=\"2em\" fill=\"currentColor\" x=\"575\">ADP</tspan>\n",
              "</text>\n",
              "\n",
              "<text class=\"displacy-token\" fill=\"currentColor\" text-anchor=\"middle\" y=\"222.0\">\n",
              "    <tspan class=\"displacy-word\" fill=\"currentColor\" x=\"750\">parque.</tspan>\n",
              "    <tspan class=\"displacy-tag\" dy=\"2em\" fill=\"currentColor\" x=\"750\">NOUN</tspan>\n",
              "</text>\n",
              "\n",
              "<g class=\"displacy-arrow\">\n",
              "    <path class=\"displacy-arc\" id=\"arrow-dbeb20ba1cbc4774b16ea55a5df9a71f-0-0\" stroke-width=\"2px\" d=\"M70,177.0 C70,89.5 220.0,89.5 220.0,177.0\" fill=\"none\" stroke=\"currentColor\"/>\n",
              "    <text dy=\"1.25em\" style=\"font-size: 0.8em; letter-spacing: 1px\">\n",
              "        <textPath xlink:href=\"#arrow-dbeb20ba1cbc4774b16ea55a5df9a71f-0-0\" class=\"displacy-label\" startOffset=\"50%\" side=\"left\" fill=\"currentColor\" text-anchor=\"middle\">det</textPath>\n",
              "    </text>\n",
              "    <path class=\"displacy-arrowhead\" d=\"M70,179.0 L62,167.0 78,167.0\" fill=\"currentColor\"/>\n",
              "</g>\n",
              "\n",
              "<g class=\"displacy-arrow\">\n",
              "    <path class=\"displacy-arc\" id=\"arrow-dbeb20ba1cbc4774b16ea55a5df9a71f-0-1\" stroke-width=\"2px\" d=\"M245,177.0 C245,89.5 395.0,89.5 395.0,177.0\" fill=\"none\" stroke=\"currentColor\"/>\n",
              "    <text dy=\"1.25em\" style=\"font-size: 0.8em; letter-spacing: 1px\">\n",
              "        <textPath xlink:href=\"#arrow-dbeb20ba1cbc4774b16ea55a5df9a71f-0-1\" class=\"displacy-label\" startOffset=\"50%\" side=\"left\" fill=\"currentColor\" text-anchor=\"middle\">nsubj</textPath>\n",
              "    </text>\n",
              "    <path class=\"displacy-arrowhead\" d=\"M245,179.0 L237,167.0 253,167.0\" fill=\"currentColor\"/>\n",
              "</g>\n",
              "\n",
              "<g class=\"displacy-arrow\">\n",
              "    <path class=\"displacy-arc\" id=\"arrow-dbeb20ba1cbc4774b16ea55a5df9a71f-0-2\" stroke-width=\"2px\" d=\"M595,177.0 C595,89.5 745.0,89.5 745.0,177.0\" fill=\"none\" stroke=\"currentColor\"/>\n",
              "    <text dy=\"1.25em\" style=\"font-size: 0.8em; letter-spacing: 1px\">\n",
              "        <textPath xlink:href=\"#arrow-dbeb20ba1cbc4774b16ea55a5df9a71f-0-2\" class=\"displacy-label\" startOffset=\"50%\" side=\"left\" fill=\"currentColor\" text-anchor=\"middle\">case</textPath>\n",
              "    </text>\n",
              "    <path class=\"displacy-arrowhead\" d=\"M595,179.0 L587,167.0 603,167.0\" fill=\"currentColor\"/>\n",
              "</g>\n",
              "\n",
              "<g class=\"displacy-arrow\">\n",
              "    <path class=\"displacy-arc\" id=\"arrow-dbeb20ba1cbc4774b16ea55a5df9a71f-0-3\" stroke-width=\"2px\" d=\"M420,177.0 C420,2.0 750.0,2.0 750.0,177.0\" fill=\"none\" stroke=\"currentColor\"/>\n",
              "    <text dy=\"1.25em\" style=\"font-size: 0.8em; letter-spacing: 1px\">\n",
              "        <textPath xlink:href=\"#arrow-dbeb20ba1cbc4774b16ea55a5df9a71f-0-3\" class=\"displacy-label\" startOffset=\"50%\" side=\"left\" fill=\"currentColor\" text-anchor=\"middle\">obl</textPath>\n",
              "    </text>\n",
              "    <path class=\"displacy-arrowhead\" d=\"M750.0,179.0 L758.0,167.0 742.0,167.0\" fill=\"currentColor\"/>\n",
              "</g>\n",
              "</svg></span>"
            ]
          },
          "metadata": {}
        }
      ]
    },
    {
      "cell_type": "markdown",
      "source": [
        "# Exemplo 04 - Ontologia"
      ],
      "metadata": {
        "id": "vytk8o_XDoZA"
      }
    },
    {
      "cell_type": "code",
      "source": [
        "!pip install owlready2"
      ],
      "metadata": {
        "colab": {
          "base_uri": "https://localhost:8080/"
        },
        "id": "o3j5rzqZDvkj",
        "outputId": "0787d471-36b8-4306-e0a3-dbd0d5dee14a"
      },
      "execution_count": null,
      "outputs": [
        {
          "output_type": "stream",
          "name": "stdout",
          "text": [
            "Requirement already satisfied: owlready2 in /usr/local/lib/python3.11/dist-packages (0.47)\n"
          ]
        }
      ]
    },
    {
      "cell_type": "code",
      "source": [
        "from owlready2 import *\n",
        "\n",
        "# Criando uma nova ontologia\n",
        "onto = get_ontology(\"http://exemplo.com/minha_ontologia.owl\")\n",
        "\n",
        "with onto:\n",
        "  class Animal(Thing): pass\n",
        "  class Mamifero(Animal): pass\n",
        "  class Cachorro(Mamifero): pass\n",
        "  class Gato(Mamifero): pass\n",
        "\n",
        "onto.save(file=\"minha_ontologia.owl\")"
      ],
      "metadata": {
        "id": "Ptv61TzcD7B3"
      },
      "execution_count": null,
      "outputs": []
    },
    {
      "cell_type": "markdown",
      "source": [
        "# Estudo de Caso 01 - Aplicação de Análise Semântica em corpus"
      ],
      "metadata": {
        "id": "k2qBtde1FNP0"
      }
    },
    {
      "cell_type": "code",
      "source": [
        "# Importando as bibliotecas necessárias\n",
        "import spacy\n",
        "import nltk\n",
        "import pandas as pd\n",
        "\n",
        "from nltk.corpus import wordnet as wn\n",
        "  # banco de dados léxico - agrupa palavras em conjuntos de sinônimos"
      ],
      "metadata": {
        "id": "I619aVybFX0Q"
      },
      "execution_count": null,
      "outputs": []
    },
    {
      "cell_type": "code",
      "source": [
        "nltk.download('wordnet')\n",
        "nltk.download('omw-1.4')\n",
        "\n",
        "nlp = spacy.load('en_core_web_sm')\n",
        "  # Acessar as funcionalidades como tokenização, análise sintática e vetores de palavras"
      ],
      "metadata": {
        "colab": {
          "base_uri": "https://localhost:8080/"
        },
        "id": "1d6Z08XYGJAU",
        "outputId": "f94d2d30-e965-4946-f52a-378605e0199e"
      },
      "execution_count": null,
      "outputs": [
        {
          "output_type": "stream",
          "name": "stderr",
          "text": [
            "[nltk_data] Downloading package wordnet to /root/nltk_data...\n",
            "[nltk_data]   Package wordnet is already up-to-date!\n",
            "[nltk_data] Downloading package omw-1.4 to /root/nltk_data...\n",
            "[nltk_data]   Package omw-1.4 is already up-to-date!\n"
          ]
        }
      ]
    },
    {
      "cell_type": "code",
      "source": [
        "# Texto de estudo de caso\n",
        "text = \"Apple looking at buying U.K. startup for $1 billion. Steve Jobs founded Apple in 1976.\"\n",
        "\n",
        "# 1. Análise Sintática\n",
        "doc = nlp(text)\n",
        "syntactic_data = []\n",
        "\n",
        "for token in doc:\n",
        "  syntactic_data.append({\n",
        "      \"Token\": token.text,\n",
        "      \"Pos-Tag\": token.pos_,\n",
        "      \"Dependência\": token.dep_,\n",
        "      \"Cabeça da Dep\": token.head.text\n",
        "  })\n",
        "\n",
        "#Convertendo para DataFrame\n",
        "df_syntactic = pd.DataFrame(syntactic_data)\n",
        "print(\"\\n Análise Sintática: \")\n",
        "print(df_syntactic)"
      ],
      "metadata": {
        "colab": {
          "base_uri": "https://localhost:8080/"
        },
        "id": "2_Vs3k3-uL0h",
        "outputId": "e3d339c1-518c-48da-f578-5bc29a186c4e"
      },
      "execution_count": null,
      "outputs": [
        {
          "output_type": "stream",
          "name": "stdout",
          "text": [
            "\n",
            " Análise Sintática: \n",
            "      Token Pos-Tag Dependência Cabeça da Dep\n",
            "0     Apple    NOUN       nsubj       startup\n",
            "1   looking    VERB         acl         Apple\n",
            "2        at     ADP        prep       looking\n",
            "3    buying    VERB       pcomp            at\n",
            "4      U.K.   PROPN        dobj        buying\n",
            "5   startup    VERB        ROOT       startup\n",
            "6       for     ADP        prep       startup\n",
            "7         $     SYM    quantmod       billion\n",
            "8         1     NUM    compound       billion\n",
            "9   billion     NUM        pobj           for\n",
            "10        .   PUNCT       punct       startup\n",
            "11    Steve   PROPN    compound          Jobs\n",
            "12     Jobs   PROPN       nsubj       founded\n",
            "13  founded    VERB        ROOT       founded\n",
            "14    Apple   PROPN        dobj       founded\n",
            "15       in     ADP        prep       founded\n",
            "16     1976     NUM        pobj            in\n",
            "17        .   PUNCT       punct       founded\n"
          ]
        }
      ]
    },
    {
      "cell_type": "code",
      "source": [
        "# 2. Reconhecimento de Entidades Nomeadas (NER)\n",
        "entities_data = []\n",
        "\n",
        "for ent in doc.ents:\n",
        "  entities_data.append({\n",
        "      \"Entidade\": ent.text,\n",
        "      \"Tipo\": ent.label_\n",
        "  })\n",
        "\n",
        "# Convertendo para DataFrame\n",
        "df_entities = pd.DataFrame(entities_data)\n",
        "print(\"\\n Reconhecimento de Entidades: \")\n",
        "print(df_entities)"
      ],
      "metadata": {
        "colab": {
          "base_uri": "https://localhost:8080/"
        },
        "id": "XO1hK1PKGsW9",
        "outputId": "48eb4742-45a2-4867-e908-ebfc545dfdf0"
      },
      "execution_count": null,
      "outputs": [
        {
          "output_type": "stream",
          "name": "stdout",
          "text": [
            "\n",
            " Reconhecimento de Entidades: \n",
            "     Entidade    Tipo\n",
            "0       Apple     ORG\n",
            "1        U.K.     GPE\n",
            "2  $1 billion   MONEY\n",
            "3  Steve Jobs  PERSON\n",
            "4       Apple     ORG\n",
            "5        1976    DATE\n"
          ]
        }
      ]
    },
    {
      "cell_type": "code",
      "source": [
        "# 3. Análise Semântica com WordNet\n",
        "semantic_data = []\n",
        "\n",
        "for token in doc:\n",
        "  synsets = wn.synsets(token.text)\n",
        "  if synsets:\n",
        "    semantic_data.append({\n",
        "        \"Palavra\": token.text,\n",
        "        \"Significado\": synsets[0].definition(),\n",
        "        \"Exemplo\": synsets[0].examples()\n",
        "    })\n",
        "\n",
        "# Convertendo para DataFrame\n",
        "df_semantic = pd.DataFrame(semantic_data)\n",
        "print(\"\\n Análise Semântica: \")\n",
        "print(df_semantic)\n"
      ],
      "metadata": {
        "colab": {
          "base_uri": "https://localhost:8080/"
        },
        "id": "EjmUBld_InWO",
        "outputId": "cae36b34-78e5-4dde-e567-eb5b2733ee6b"
      },
      "execution_count": null,
      "outputs": [
        {
          "output_type": "stream",
          "name": "stdout",
          "text": [
            "\n",
            " Análise Semântica: \n",
            "    Palavra                                        Significado  \\\n",
            "0     Apple  fruit with red or yellow or green skin and swe...   \n",
            "1   looking  the act of directing the eyes toward something...   \n",
            "2        at  a highly unstable radioactive element (the hea...   \n",
            "3    buying                                  the act of buying   \n",
            "4      U.K.  a monarchy in northwestern Europe occupying mo...   \n",
            "5   startup                    the act of setting in operation   \n",
            "6         1  the smallest whole number or a numeral represe...   \n",
            "7   billion  the number that is represented as a one follow...   \n",
            "8      Jobs  the principal activity in your life that you d...   \n",
            "9   founded                                    set up or found   \n",
            "10    Apple  fruit with red or yellow or green skin and swe...   \n",
            "11       in    a unit of length equal to one twelfth of a foot   \n",
            "\n",
            "                                              Exemplo  \n",
            "0                                                  []  \n",
            "1   [he went out to have a look, his look was fixe...  \n",
            "2                                                  []  \n",
            "3   [buying and selling fill their days, shrewd pu...  \n",
            "4                                                  []  \n",
            "5     [repeated shutdowns and startups are expensive]  \n",
            "6   [he has the one but will need a two and three ...  \n",
            "7                                                  []  \n",
            "8                   [he's not in my line of business]  \n",
            "9                     [She set up a literacy program]  \n",
            "10                                                 []  \n",
            "11                                                 []  \n"
          ]
        }
      ]
    }
  ]
}