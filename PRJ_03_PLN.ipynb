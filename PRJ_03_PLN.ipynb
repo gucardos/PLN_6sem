{
  "nbformat": 4,
  "nbformat_minor": 0,
  "metadata": {
    "colab": {
      "provenance": [],
      "authorship_tag": "ABX9TyM52hsahlPJ/9iZD6/9c2Ec",
      "include_colab_link": true
    },
    "kernelspec": {
      "name": "python3",
      "display_name": "Python 3"
    },
    "language_info": {
      "name": "python"
    }
  },
  "cells": [
    {
      "cell_type": "markdown",
      "metadata": {
        "id": "view-in-github",
        "colab_type": "text"
      },
      "source": [
        "<a href=\"https://colab.research.google.com/github/gucardos/PLN_6sem/blob/main/PRJ_03_PLN.ipynb\" target=\"_parent\"><img src=\"https://colab.research.google.com/assets/colab-badge.svg\" alt=\"Open In Colab\"/></a>"
      ]
    },
    {
      "cell_type": "markdown",
      "source": [
        "# <b>Projeto 03</b> - Análise de relevância de termos"
      ],
      "metadata": {
        "id": "CaUHOlGwseUc"
      }
    },
    {
      "cell_type": "markdown",
      "source": [
        "## Primeira etapa - Carregamento do arquivo"
      ],
      "metadata": {
        "id": "Q_VjIMjeswA9"
      }
    },
    {
      "cell_type": "code",
      "execution_count": null,
      "metadata": {
        "colab": {
          "base_uri": "https://localhost:8080/"
        },
        "id": "apCPLl1csc2p",
        "outputId": "586f555d-3eec-4cf3-8f76-3b4f71bf1758"
      },
      "outputs": [
        {
          "output_type": "stream",
          "name": "stderr",
          "text": [
            "[nltk_data] Downloading package machado to /root/nltk_data...\n"
          ]
        },
        {
          "output_type": "stream",
          "name": "stdout",
          "text": [
            "Arquivo /root/nltk_data/corpora/machado.zip descompactado em: /root/nltk_data/corpora/\n"
          ]
        }
      ],
      "source": [
        "# importação das bibliotecas e módulos\n",
        "import zipfile\n",
        "import os\n",
        "import nltk\n",
        "from nltk.corpus import machado\n",
        "\n",
        "# baixando no drive a corpora de machado de assis\n",
        "nltk.download('machado')\n",
        "\n",
        "# Extraindo arquivos dos corpus\n",
        "caminho_do_zip = '/root/nltk_data/corpora/machado.zip'\n",
        "pasta_destino = '/root/nltk_data/corpora/'\n",
        "os.makedirs(pasta_destino, exist_ok=True)\n",
        "  # cria a pasta de destino caso não exista\n",
        "\n",
        "arquivo_zip = zipfile.ZipFile(caminho_do_zip, 'r')\n",
        "arquivo_zip.extractall(pasta_destino)\n",
        "\n",
        "print(f\"Arquivo {caminho_do_zip} descompactado em: {pasta_destino}\")"
      ]
    },
    {
      "cell_type": "markdown",
      "source": [
        "## Segunda etapa - Limpeza e preparação do arquivo"
      ],
      "metadata": {
        "id": "cRL6wFrAs57x"
      }
    },
    {
      "cell_type": "code",
      "source": [
        "# Função para a leitura dos arquivos a serem utilizados\n",
        "def ler(nome_arquivo):\n",
        "  arquivo = open(nome_arquivo, 'r', encoding='ISO-8859-1')\n",
        "  conteudo_arq = arquivo.read()\n",
        "  arquivo.close()\n",
        "  return conteudo_arq"
      ],
      "metadata": {
        "id": "HozQjnTQuu1U"
      },
      "execution_count": null,
      "outputs": []
    },
    {
      "cell_type": "code",
      "source": [
        "# Função limpeza de textos em lista\n",
        "def limpar(lista):\n",
        "  lixo = '.,:;?!\"´`^~()[]{}/\\|@#$%¨&*-'\n",
        "  quase_limpo = [x.strip(lixo).lower() for x in lista]\n",
        "  return [x for x in quase_limpo if x.isalpha() or '-' not in x]"
      ],
      "metadata": {
        "id": "g3KIeC7kExrA"
      },
      "execution_count": null,
      "outputs": []
    },
    {
      "cell_type": "code",
      "source": [
        "# Obtenção dos arquivos para serem analisados\n",
        "obras = []\n",
        "\n",
        "for i in range(1,10):\n",
        "  obras.append('/root/nltk_data/corpora/machado/romance/marm0' + str(i) + '.txt')\n",
        "\n",
        "colecao = []\n",
        "\n",
        "for obra in obras:\n",
        "  print(obra)\n",
        "  texto = ler(obra)\n",
        "  palavras = limpar(texto.lower().split())\n",
        "  colecao.append(palavras)\n",
        "  # colecao [texto 1, texto 2, texto 3, texto 4, texto 5, texto 6, texto 7, texto 8, texto 9]"
      ],
      "metadata": {
        "colab": {
          "base_uri": "https://localhost:8080/"
        },
        "collapsed": true,
        "id": "hZCH9ILIGiq8",
        "outputId": "de1baf1a-fb13-4a21-ce32-c4b4e647c1f1"
      },
      "execution_count": null,
      "outputs": [
        {
          "output_type": "stream",
          "name": "stdout",
          "text": [
            "/root/nltk_data/corpora/machado/romance/marm01.txt\n",
            "/root/nltk_data/corpora/machado/romance/marm02.txt\n",
            "/root/nltk_data/corpora/machado/romance/marm03.txt\n",
            "/root/nltk_data/corpora/machado/romance/marm04.txt\n",
            "/root/nltk_data/corpora/machado/romance/marm05.txt\n",
            "/root/nltk_data/corpora/machado/romance/marm06.txt\n",
            "/root/nltk_data/corpora/machado/romance/marm07.txt\n",
            "/root/nltk_data/corpora/machado/romance/marm08.txt\n",
            "/root/nltk_data/corpora/machado/romance/marm09.txt\n"
          ]
        }
      ]
    },
    {
      "cell_type": "markdown",
      "source": [
        "## Terceira etapa - Criação dos calculos"
      ],
      "metadata": {
        "id": "SlgPdAaLtDwZ"
      }
    },
    {
      "cell_type": "code",
      "source": [
        "import math\n",
        "def tf(termo,doc):\n",
        "  return colecao[doc].count(termo)\n",
        "\n",
        "def df(termo):\n",
        "  return len([d for d in colecao if termo in d])\n",
        "\n",
        "def idf(termo):\n",
        "  return math.log10(len(colecao)/df(termo))\n",
        "\n",
        "def tf_idf(termo,doc):\n",
        "  return tf(termo,doc)*idf(termo)"
      ],
      "metadata": {
        "id": "NbjtpIfCuva7"
      },
      "execution_count": null,
      "outputs": []
    },
    {
      "cell_type": "markdown",
      "source": [
        "## Quarta etapa - Experimentação dos cálculos"
      ],
      "metadata": {
        "id": "mXlEWmRctQLj"
      }
    },
    {
      "cell_type": "code",
      "source": [
        "df('que')"
      ],
      "metadata": {
        "colab": {
          "base_uri": "https://localhost:8080/"
        },
        "id": "5Tmbu9YHuwxd",
        "outputId": "e5725aac-02ed-472a-f7ef-149ac9e88586"
      },
      "execution_count": null,
      "outputs": [
        {
          "output_type": "execute_result",
          "data": {
            "text/plain": [
              "9"
            ]
          },
          "metadata": {},
          "execution_count": 9
        }
      ]
    },
    {
      "cell_type": "code",
      "source": [
        "df('luva')"
      ],
      "metadata": {
        "colab": {
          "base_uri": "https://localhost:8080/"
        },
        "id": "CN2bXBvBVLcX",
        "outputId": "bbf04556-92fc-4443-ed9b-f991e663afe6"
      },
      "execution_count": null,
      "outputs": [
        {
          "output_type": "execute_result",
          "data": {
            "text/plain": [
              "5"
            ]
          },
          "metadata": {},
          "execution_count": 10
        }
      ]
    },
    {
      "cell_type": "code",
      "source": [
        "tf_idf('luva',2)"
      ],
      "metadata": {
        "colab": {
          "base_uri": "https://localhost:8080/"
        },
        "id": "uOVx9T-IVX-B",
        "outputId": "7c7902cb-85a4-4124-ce3b-bd751d09d6e1"
      },
      "execution_count": null,
      "outputs": [
        {
          "output_type": "execute_result",
          "data": {
            "text/plain": [
              "0.25527250510330607"
            ]
          },
          "metadata": {},
          "execution_count": 12
        }
      ]
    },
    {
      "cell_type": "code",
      "source": [
        "tf_idf('latim',1)"
      ],
      "metadata": {
        "colab": {
          "base_uri": "https://localhost:8080/"
        },
        "id": "595JdflwWLGY",
        "outputId": "62b03fd7-4182-4d75-d2b6-b87568261c31"
      },
      "execution_count": null,
      "outputs": [
        {
          "output_type": "execute_result",
          "data": {
            "text/plain": [
              "0.05115252244738129"
            ]
          },
          "metadata": {},
          "execution_count": 13
        }
      ]
    },
    {
      "cell_type": "code",
      "source": [
        "def relevantes(doc):\n",
        "  lista_total = [(tf_idf(p,doc),p) for p in set(colecao[doc])]\n",
        "\n",
        "  return sorted(lista_total,reverse=True)[:10]"
      ],
      "metadata": {
        "id": "ekazfPc4WTZy"
      },
      "execution_count": null,
      "outputs": []
    },
    {
      "cell_type": "code",
      "source": [
        "mr = relevantes(1)"
      ],
      "metadata": {
        "id": "FMLJoy5NXq1A"
      },
      "execution_count": null,
      "outputs": []
    },
    {
      "cell_type": "code",
      "source": [
        "mr"
      ],
      "metadata": {
        "colab": {
          "base_uri": "https://localhost:8080/"
        },
        "id": "dNfbbzgtXyky",
        "outputId": "76a60a64-fcd1-4f0a-de6e-6a64239ec231"
      },
      "execution_count": null,
      "outputs": [
        {
          "output_type": "execute_result",
          "data": {
            "text/plain": [
              "[(276.7303277374042, 'guiomar'),\n",
              " (164.12971162356388, 'estevão'),\n",
              " (148.82387047522744, '\\x97'),\n",
              " (94.71581449742484, 'alves'),\n",
              " (87.79031086841789, 'oswald'),\n",
              " (86.83606835897857, 'mrs'),\n",
              " (60.748763781106966, 'jorge'),\n",
              " (43.65159837266534, 'baronesa'),\n",
              " (24.810305245422448, 'inglesa'),\n",
              " (9.144975192854812, 'afilhada')]"
            ]
          },
          "metadata": {},
          "execution_count": 16
        }
      ]
    }
  ]
}