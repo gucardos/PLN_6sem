{
  "nbformat": 4,
  "nbformat_minor": 0,
  "metadata": {
    "colab": {
      "provenance": [],
      "mount_file_id": "1gnu6U8nZZjsDoZ5H-GMKS3lCoKB1GtQV",
      "authorship_tag": "ABX9TyMhcS04mMcDd1nBpzdgk4yA",
      "include_colab_link": true
    },
    "kernelspec": {
      "name": "python3",
      "display_name": "Python 3"
    },
    "language_info": {
      "name": "python"
    }
  },
  "cells": [
    {
      "cell_type": "markdown",
      "metadata": {
        "id": "view-in-github",
        "colab_type": "text"
      },
      "source": [
        "<a href=\"https://colab.research.google.com/github/gucardos/PLN_6sem/blob/main/PRJ_01_PLN.ipynb\" target=\"_parent\"><img src=\"https://colab.research.google.com/assets/colab-badge.svg\" alt=\"Open In Colab\"/></a>"
      ]
    },
    {
      "cell_type": "markdown",
      "source": [
        "# <b>Projeto 01</b> - Análise quantitativa de Corpus\n",
        "* ### Apresentar noções básicas sobre o que é e como se usa um corpus de dados linguísticos.\n",
        "* ### Criar estruturas simples para limpeza e análise de corpora.\n",
        "* ### Usar técnicas de mineração de dados e extração de informação, como cálculos de relevância de palavras.\n",
        "* ### Além de implementar estes metodos em python, levantar elementos que permitam discutir criticamente os resultados obtidos.\n",
        "\n"
      ],
      "metadata": {
        "id": "H-fuwG9Ux7YY"
      }
    },
    {
      "cell_type": "markdown",
      "source": [
        "## Início do processamento do corpus"
      ],
      "metadata": {
        "id": "YkAt1v83mJP8"
      }
    },
    {
      "cell_type": "code",
      "execution_count": null,
      "metadata": {
        "id": "vqXfZ1rWjjxY"
      },
      "outputs": [],
      "source": [
        "# criar uma função para fazer a abertura do arquivo\n",
        "def ler(nome_arquivo):\n",
        "  arquivo = open(nome_arquivo, 'r', encoding='utf-8')\n",
        "  conteudo_arq = arquivo.read()\n",
        "  arquivo.close()\n",
        "  return conteudo_arq"
      ]
    },
    {
      "cell_type": "code",
      "source": [
        "texto = ler('/content/drive/MyDrive/PLN/2025.05 Ubirajara.txt')\n",
        "print(len(texto))"
      ],
      "metadata": {
        "colab": {
          "base_uri": "https://localhost:8080/"
        },
        "id": "zLdjRiiPnYzH",
        "outputId": "df10aceb-b48d-41d2-80da-f3ad051d4edc"
      },
      "execution_count": null,
      "outputs": [
        {
          "output_type": "stream",
          "name": "stdout",
          "text": [
            "219835\n"
          ]
        }
      ]
    },
    {
      "cell_type": "markdown",
      "source": [
        "## Primeira etapa - Buscador de palavras"
      ],
      "metadata": {
        "id": "cvrb3rnCop31"
      }
    },
    {
      "cell_type": "code",
      "source": [
        "def buscador(alvo, texto):\n",
        "  texto = texto.replace('\\n', ' ')\n",
        "  texto = texto.replace('\\t', ' ')\n",
        "\n",
        "  ocorrencias = []\n",
        "\n",
        "  encontrado_aqui = texto.find(alvo, 0)\n",
        "    #Se encontra a palavra, informa a posição\n",
        "    #SE não encontrar, informa -1\n",
        "\n",
        "  while encontrado_aqui > 0:\n",
        "    pos_inicial = encontrado_aqui - (40 - len(alvo))\n",
        "    trecho = texto[pos_inicial: pos_inicial + 80]\n",
        "\n",
        "    ocorrencias.append(trecho)\n",
        "\n",
        "    encontrado_aqui = texto.find(alvo, encontrado_aqui + 1)\n",
        "\n",
        "    # inicia a busca a partir da posição anterior + 1\n",
        "    #Se encontra a palavra, informa a posição\n",
        "    #SE não encontrar, informa -1\n",
        "\n",
        "  return ocorrencias"
      ],
      "metadata": {
        "id": "QPzAmZhYo4FO"
      },
      "execution_count": null,
      "outputs": []
    },
    {
      "cell_type": "code",
      "source": [
        "resultados = buscador('peito', texto)\n",
        "\n",
        "for trecho in resultados:\n",
        "  print(trecho)"
      ],
      "metadata": {
        "colab": {
          "base_uri": "https://localhost:8080/"
        },
        "id": "o46BzVfmpHfX",
        "outputId": "bdd3ce19-196f-457f-f005-02b6f01e01b6"
      },
      "execution_count": null,
      "outputs": [
        {
          "output_type": "stream",
          "name": "stdout",
          "text": [
            "i o chefe tocantim quem recebeu no peito a ponta farpada.  Quando o corpo robust\n",
            " se tua arma traiçoeira me feriu o peito, o suplicio não vencerá a constancia do\n",
            "java falar; todos escutaram com respeito o heróe, ainda maior na desgraça.  --Gu\n",
            "ança, escrava de Jaguarê, cravou o peito do inimigo.  «Elle caiu, o guerreiro ch\n",
            "O labio de Jandira emudeceu; mas o peito soluçou.  A virjem conheceu que o amor \n",
            " todos dignos de teu valor. Nestes peitos, que te pertencem, ella os nutrirá com\n",
            "ndos que os botões do cardo por um peito feroz, e as mãos lijeiras que tecem os \n",
            " o acolher, todos o escutam com respeito.  «Em suas palavras prudentes, os anciã\n",
            "não quando elle não chupa mais seu peito. Ella é como a mangabeira; nutre o frut\n",
            "ente do Xingú.  As arvores que seu peito encontrava caíam lascadas.  Jurandir es\n",
            "e. Os noivos cuidavam que era a do peito do tucano; mas ella sabia que era do pe\n",
            " tucano; mas ella sabia que era do peito da arára e que tinha as côres de seu gu\n",
            "os arredores. Nada encontrou de suspeito; o rasto, que o inquietava, não chegára\n",
            "amor, e quando o leite encher seus peitos mimozos, para que ella suspenda ao col\n",
            " O grande chefe vergou a cabeça ao peito, como o cedro altaneiro batido pelo tuf\n",
            "re a cabeça de Arací:  --Itaquê respeitou a lei de hospitalidade no corpo de Ubi\n",
            "as o grito de espanto sossobrou no peito dos guerreiros, e rompeu em um grito de\n",
            "o velho guerreiro sossobrou-lhe no peito:  --O arco de Itaquê é como o gavião qu\n",
            "s do guerreiro quando se cruzam ao peito para exprimir a amizade.  Ubirajara apa\n",
            "eu guerreiro.  Ubirajara cinjiu ao peito com um e outro braço, a espoza e a virj\n",
            "336.  Póde-se ler tambem a este respeito o que diz Gabriel Soares, cit. no cap. \n",
            "abriel Soares se exprime a este respeito no cap. 152: «E como o marido lhe leva \n",
            "ilizada se observa tão profundo respeito pela união conjugal, a ponto de não con\n",
            ". VIII, que a liga vermelha e o respeito que ella inspirava indicassem guarda da\n",
            " como sua extensão, dependia do respeito que elle conseguia infundir a seus guer\n",
            "quelles sacerdotes, cercados do respeito dos guerreiros, fortes pelo prestijio d\n",
            "lações do seu culto.  Tal era o respeito que o selvajem professava pela dignidad\n",
            "sseio. Ives d'Evreux diz a este respeito: «Ils sont fort soigneux de tenir leur \n",
            "vel e _nheng_ falar.--Veja-se a respeito dos cantores, _nhengara_, o que se diss\n"
          ]
        }
      ]
    },
    {
      "cell_type": "markdown",
      "source": [
        "## Segunda etapa - Limpeza dos Corpus"
      ],
      "metadata": {
        "id": "C5ebqFbZpam5"
      }
    },
    {
      "cell_type": "code",
      "source": [
        "palavras = texto.split()"
      ],
      "metadata": {
        "id": "Qc6v9B-0pop4"
      },
      "execution_count": null,
      "outputs": []
    },
    {
      "cell_type": "code",
      "source": [
        "def limpar(lista):\n",
        "  lixo = '.,:;?!\"´`^~()[]{}/\\|@#$%¨&*-'\n",
        "  quase_limpo = [x.strip(lixo).lower() for x in lista]\n",
        "  return [x for x in quase_limpo if x.isalpha() or '-' not in x]"
      ],
      "metadata": {
        "id": "LWGkcK0Wpsm8"
      },
      "execution_count": null,
      "outputs": []
    },
    {
      "cell_type": "code",
      "source": [
        "teste = \"Corre-se atrás do carro, corre se o carro for embora.\"\n",
        "word = teste.split()\n",
        "print(word)"
      ],
      "metadata": {
        "colab": {
          "base_uri": "https://localhost:8080/"
        },
        "id": "Hf0q7wtopxB4",
        "outputId": "a0572c02-d247-41ef-e365-084904b514e8"
      },
      "execution_count": null,
      "outputs": [
        {
          "output_type": "stream",
          "name": "stdout",
          "text": [
            "['Corre-se', 'atrás', 'do', 'carro,', 'corre', 'se', 'o', 'carro', 'for', 'embora.']\n"
          ]
        }
      ]
    },
    {
      "cell_type": "code",
      "source": [
        "print(limpar(word))"
      ],
      "metadata": {
        "colab": {
          "base_uri": "https://localhost:8080/"
        },
        "id": "0-HIdfHqp1-h",
        "outputId": "be5322d5-3ae2-4b8f-a485-644993c6145f"
      },
      "execution_count": null,
      "outputs": [
        {
          "output_type": "stream",
          "name": "stdout",
          "text": [
            "['atrás', 'do', 'carro', 'corre', 'se', 'o', 'carro', 'for', 'embora']\n"
          ]
        }
      ]
    },
    {
      "cell_type": "code",
      "source": [
        "print(len(palavras))\n",
        "palavras = limpar(palavras)\n",
        "print(len(palavras))"
      ],
      "metadata": {
        "colab": {
          "base_uri": "https://localhost:8080/"
        },
        "id": "hFiUA-Lkp8OX",
        "outputId": "b5874f52-d525-4a69-c7b1-471f4bab461e"
      },
      "execution_count": null,
      "outputs": [
        {
          "output_type": "stream",
          "name": "stdout",
          "text": [
            "37139\n",
            "36585\n"
          ]
        }
      ]
    },
    {
      "cell_type": "markdown",
      "source": [
        "### Descrevendo os métodos utilizados na limpeza:\n",
        "* ### split() - transformar um texto, em uma lista de palavras\n",
        "* ### strip() - eliminar sinais ou caracteres no começo ou no fim de uma palavras\n",
        "* ### isalpha - realizar um filtro eliminando números ou simbolos de uma lista de referência"
      ],
      "metadata": {
        "id": "ty0ZPrZjqFtj"
      }
    },
    {
      "cell_type": "markdown",
      "source": [
        "## Terceira Etapa - Quantidade de palavras\n",
        "#### 1. Quantifica as palavras\n",
        "#### 2. Classifica as ocorrências"
      ],
      "metadata": {
        "id": "jvKdTLPZrKFf"
      }
    },
    {
      "cell_type": "code",
      "source": [
        "# Conhecer a quantidade de palavras e vocabulário\n",
        "vocabulario = set(palavras)\n",
        "len(vocabulario)"
      ],
      "metadata": {
        "colab": {
          "base_uri": "https://localhost:8080/"
        },
        "id": "1KjrHs1br6e2",
        "outputId": "a02710d0-7dcd-424d-8cc2-4cb80d127597"
      },
      "execution_count": null,
      "outputs": [
        {
          "output_type": "execute_result",
          "data": {
            "text/plain": [
              "6902"
            ]
          },
          "metadata": {},
          "execution_count": 11
        }
      ]
    },
    {
      "cell_type": "code",
      "source": [
        "# calculando a riqueza textual do corpus\n",
        "riqueza = len(vocabulario) / len(palavras) # 6902 / 36585\n",
        "riqueza"
      ],
      "metadata": {
        "colab": {
          "base_uri": "https://localhost:8080/"
        },
        "id": "AolEoAuzsBdr",
        "outputId": "3bec7429-bd1d-4e88-fffd-d0961e3fb2e5"
      },
      "execution_count": null,
      "outputs": [
        {
          "output_type": "execute_result",
          "data": {
            "text/plain": [
              "0.188656553232199"
            ]
          },
          "metadata": {},
          "execution_count": 12
        }
      ]
    },
    {
      "cell_type": "code",
      "source": [
        "# Criar um dicionário deste texto\n",
        "from collections import defaultdict\n",
        "\n",
        "def ocorrencias(lista_palavras):\n",
        "  dicionario = defaultdict(int)\n",
        "  for p in lista_palavras:\n",
        "    dicionario[p] += 1\n",
        "\n",
        "  return dicionario"
      ],
      "metadata": {
        "id": "HphHgFAOsGNe"
      },
      "execution_count": null,
      "outputs": []
    },
    {
      "cell_type": "code",
      "source": [
        "dic = ocorrencias(palavras)\n",
        "mf = sorted(dic.items(), key=lambda tupla:tupla[1],reverse=True)[:50]\n",
        "for palavra, n in mf:\n",
        "  print(palavra,'\\t',n)"
      ],
      "metadata": {
        "colab": {
          "base_uri": "https://localhost:8080/"
        },
        "id": "UWGahgsosLkL",
        "outputId": "b71134ce-49fb-4e51-a6dd-5ee71ac30473"
      },
      "execution_count": null,
      "outputs": [
        {
          "output_type": "stream",
          "name": "stdout",
          "text": [
            "a \t 1491\n",
            "o \t 1398\n",
            "de \t 1199\n",
            "que \t 1119\n",
            "e \t 918\n",
            "do \t 685\n",
            "da \t 624\n",
            "os \t 496\n",
            "para \t 347\n",
            "não \t 340\n",
            "dos \t 327\n",
            "se \t 295\n",
            "as \t 266\n",
            "como \t 243\n",
            "guerreiro \t 238\n",
            "um \t 229\n",
            "seu \t 215\n",
            "em \t 213\n",
            "na \t 205\n",
            "mais \t 205\n",
            "é \t 200\n",
            "sua \t 197\n",
            "no \t 195\n",
            "com \t 195\n",
            "ao \t 190\n",
            " \t 189\n",
            "the \t 187\n",
            "á \t 186\n",
            "chefe \t 175\n",
            "ubirajara \t 174\n",
            "guerreiros \t 171\n",
            "uma \t 165\n",
            "por \t 158\n",
            "grande \t 155\n",
            "elle \t 152\n",
            "mas \t 140\n",
            "nação \t 129\n",
            "quando \t 125\n",
            "of \t 122\n",
            "das \t 115\n",
            "era \t 113\n",
            "itaquê \t 113\n",
            "seus \t 98\n",
            "pela \t 93\n",
            "virjem \t 91\n",
            "espoza \t 87\n",
            "arací \t 87\n",
            "paj \t 86\n",
            "project \t 83\n",
            "to \t 82\n"
          ]
        }
      ]
    },
    {
      "cell_type": "code",
      "source": [
        "dic\n",
        "tupla([0],[1])"
      ],
      "metadata": {
        "id": "wAghcjULsOZa"
      },
      "execution_count": null,
      "outputs": []
    },
    {
      "cell_type": "code",
      "source": [
        "import nltk\n",
        "nltk.download('stopwords')\n",
        "vazias = nltk.corpus.stopwords.words('portuguese')"
      ],
      "metadata": {
        "colab": {
          "base_uri": "https://localhost:8080/"
        },
        "id": "apBo4vVXt_Ll",
        "outputId": "751e9cb6-d57f-4456-b5d3-6fbe172e1962"
      },
      "execution_count": null,
      "outputs": [
        {
          "output_type": "stream",
          "name": "stderr",
          "text": [
            "[nltk_data] Downloading package stopwords to /root/nltk_data...\n",
            "[nltk_data]   Unzipping corpora/stopwords.zip.\n"
          ]
        }
      ]
    },
    {
      "cell_type": "code",
      "source": [
        "frequentes_plenas = [x for x in mf if x[0].lower() not in vazias]\n",
        "frequentes_plenas"
      ],
      "metadata": {
        "id": "SWLFKWgPuEFr",
        "outputId": "296111c3-e462-47c1-a759-703f49c6aca5",
        "colab": {
          "base_uri": "https://localhost:8080/"
        }
      },
      "execution_count": null,
      "outputs": [
        {
          "output_type": "execute_result",
          "data": {
            "text/plain": [
              "[('guerreiro', 238),\n",
              " ('', 189),\n",
              " ('the', 187),\n",
              " ('á', 186),\n",
              " ('chefe', 175),\n",
              " ('ubirajara', 174),\n",
              " ('guerreiros', 171),\n",
              " ('grande', 155),\n",
              " ('elle', 152),\n",
              " ('nação', 129),\n",
              " ('of', 122),\n",
              " ('itaquê', 113),\n",
              " ('virjem', 91),\n",
              " ('espoza', 87),\n",
              " ('arací', 87),\n",
              " ('paj', 86),\n",
              " ('project', 83),\n",
              " ('to', 82)]"
            ]
          },
          "metadata": {},
          "execution_count": 25
        }
      ]
    }
  ]
}