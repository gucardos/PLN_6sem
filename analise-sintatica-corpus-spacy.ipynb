{
  "nbformat": 4,
  "nbformat_minor": 0,
  "metadata": {
    "colab": {
      "provenance": [],
      "collapsed_sections": [
        "ikrw_HMsfj86",
        "SAWG6q8hmXHk",
        "GiQ8t1hQmHcd"
      ],
      "mount_file_id": "1tUXzl9brcaZ0V58u9XC-JGMKlIzc9rDs",
      "authorship_tag": "ABX9TyNFY6BkLsNmcc6kgU4353nF",
      "include_colab_link": true
    },
    "kernelspec": {
      "name": "python3",
      "display_name": "Python 3"
    },
    "language_info": {
      "name": "python"
    }
  },
  "cells": [
    {
      "cell_type": "markdown",
      "metadata": {
        "id": "view-in-github",
        "colab_type": "text"
      },
      "source": [
        "<a href=\"https://colab.research.google.com/github/gucardos/PLN_6sem/blob/main/Aula05_PLN.ipynb\" target=\"_parent\"><img src=\"https://colab.research.google.com/assets/colab-badge.svg\" alt=\"Open In Colab\"/></a>"
      ]
    },
    {
      "cell_type": "markdown",
      "source": [
        "# <b>Aula 05</b>: Análise sintática e Estruturas linguísticas\n",
        "\n",
        "### 1. Parte 1- Desenvolvimento conceitual - Corporas\n",
        "### 2. Parte 2- Demostração de estruturas funcionais"
      ],
      "metadata": {
        "id": "gMnIlRbPdpOg"
      }
    },
    {
      "cell_type": "markdown",
      "source": [
        "## <b>Parte 1</b> - Desenvolvimento conceitual - Corporas"
      ],
      "metadata": {
        "id": "wghcGJaVez7-"
      }
    },
    {
      "cell_type": "markdown",
      "source": [
        "### Inicio do processamento do Corpus"
      ],
      "metadata": {
        "id": "ikrw_HMsfj86"
      }
    },
    {
      "cell_type": "code",
      "source": [
        "# criar uma função para fazer a abertura e leitura do arquivo\n",
        "def ler(nome_arquivo):\n",
        "  arquivo = open(nome_arquivo,'r',encoding='utf-8')\n",
        "  conteudo_arq = arquivo.read()\n",
        "  arquivo.close()\n",
        "  return conteudo_arq"
      ],
      "metadata": {
        "id": "YxU40z9hfzu6"
      },
      "execution_count": null,
      "outputs": []
    },
    {
      "cell_type": "code",
      "source": [
        "texto = ler('/content/drive/MyDrive/PLN/2025.05 Ubirajara.txt')\n",
        "print(len(texto))\n",
        "  # para contabilizar as palavras"
      ],
      "metadata": {
        "colab": {
          "base_uri": "https://localhost:8080/"
        },
        "id": "CuQL_WUDkC0e",
        "outputId": "7d6f739f-c05d-451a-8751-221c644f92c2"
      },
      "execution_count": null,
      "outputs": [
        {
          "output_type": "stream",
          "name": "stdout",
          "text": [
            "219835\n"
          ]
        }
      ]
    },
    {
      "cell_type": "markdown",
      "source": [
        "### Primeira Etapa - Buscador de palavras"
      ],
      "metadata": {
        "id": "SAWG6q8hmXHk"
      }
    },
    {
      "cell_type": "code",
      "source": [
        "def buscador(alvo, texto):\n",
        "  texto = texto.replace('\\n',' ')\n",
        "  texto = texto.replace('\\t',' ')\n",
        "\n",
        "  ocorrencias = []\n",
        "\n",
        "  encontrado_aqui = texto.find(alvo,0)\n",
        "    # Se encontrar a palavra, informa a posição\n",
        "    # Se não encontrar, informa -1\n",
        "\n",
        "  while encontrado_aqui > 0:\n",
        "    pos_inicial = encontrado_aqui - (40 - len(alvo))\n",
        "    trecho = texto[pos_inicial:pos_inicial+80]\n",
        "\n",
        "    ocorrencias.append(trecho)\n",
        "\n",
        "    encontrado_aqui = texto.find(alvo,encontrado_aqui + 1)\n",
        "    # inicia a busca a partir da oposição anterior +1\n",
        "    # Se encontra a palavra informa a posição\n",
        "    # Se não encontrar, informa -1\n",
        "\n",
        "  return ocorrencias\n"
      ],
      "metadata": {
        "id": "jv3DftL0mmp0"
      },
      "execution_count": null,
      "outputs": []
    },
    {
      "cell_type": "code",
      "source": [
        "resultados = buscador('peito',texto)\n",
        "\n",
        "for trecho in resultados:\n",
        "  print(trecho)"
      ],
      "metadata": {
        "colab": {
          "base_uri": "https://localhost:8080/"
        },
        "id": "iPV5qERgpjtm",
        "outputId": "9c53d81e-6ee9-4b91-c79a-c54ca6d48c23"
      },
      "execution_count": null,
      "outputs": [
        {
          "output_type": "stream",
          "name": "stdout",
          "text": [
            "i o chefe tocantim quem recebeu no peito a ponta farpada.  Quando o corpo robust\n",
            " se tua arma traiçoeira me feriu o peito, o suplicio não vencerá a constancia do\n",
            "java falar; todos escutaram com respeito o heróe, ainda maior na desgraça.  --Gu\n",
            "ança, escrava de Jaguarê, cravou o peito do inimigo.  «Elle caiu, o guerreiro ch\n",
            "O labio de Jandira emudeceu; mas o peito soluçou.  A virjem conheceu que o amor \n",
            " todos dignos de teu valor. Nestes peitos, que te pertencem, ella os nutrirá com\n",
            "ndos que os botões do cardo por um peito feroz, e as mãos lijeiras que tecem os \n",
            " o acolher, todos o escutam com respeito.  «Em suas palavras prudentes, os anciã\n",
            "não quando elle não chupa mais seu peito. Ella é como a mangabeira; nutre o frut\n",
            "ente do Xingú.  As arvores que seu peito encontrava caíam lascadas.  Jurandir es\n",
            "e. Os noivos cuidavam que era a do peito do tucano; mas ella sabia que era do pe\n",
            " tucano; mas ella sabia que era do peito da arára e que tinha as côres de seu gu\n",
            "os arredores. Nada encontrou de suspeito; o rasto, que o inquietava, não chegára\n",
            "amor, e quando o leite encher seus peitos mimozos, para que ella suspenda ao col\n",
            " O grande chefe vergou a cabeça ao peito, como o cedro altaneiro batido pelo tuf\n",
            "re a cabeça de Arací:  --Itaquê respeitou a lei de hospitalidade no corpo de Ubi\n",
            "as o grito de espanto sossobrou no peito dos guerreiros, e rompeu em um grito de\n",
            "o velho guerreiro sossobrou-lhe no peito:  --O arco de Itaquê é como o gavião qu\n",
            "s do guerreiro quando se cruzam ao peito para exprimir a amizade.  Ubirajara apa\n",
            "eu guerreiro.  Ubirajara cinjiu ao peito com um e outro braço, a espoza e a virj\n",
            "336.  Póde-se ler tambem a este respeito o que diz Gabriel Soares, cit. no cap. \n",
            "abriel Soares se exprime a este respeito no cap. 152: «E como o marido lhe leva \n",
            "ilizada se observa tão profundo respeito pela união conjugal, a ponto de não con\n",
            ". VIII, que a liga vermelha e o respeito que ella inspirava indicassem guarda da\n",
            " como sua extensão, dependia do respeito que elle conseguia infundir a seus guer\n",
            "quelles sacerdotes, cercados do respeito dos guerreiros, fortes pelo prestijio d\n",
            "lações do seu culto.  Tal era o respeito que o selvajem professava pela dignidad\n",
            "sseio. Ives d'Evreux diz a este respeito: «Ils sont fort soigneux de tenir leur \n",
            "vel e _nheng_ falar.--Veja-se a respeito dos cantores, _nhengara_, o que se diss\n"
          ]
        }
      ]
    },
    {
      "cell_type": "markdown",
      "source": [
        "### Segunda Etapa - Limpeza do Corpus"
      ],
      "metadata": {
        "id": "0wOOmelMuE8A"
      }
    },
    {
      "cell_type": "code",
      "source": [
        "palavras = texto.split()"
      ],
      "metadata": {
        "id": "AL_G6NSquS2f"
      },
      "execution_count": null,
      "outputs": []
    },
    {
      "cell_type": "code",
      "source": [
        "def limpar(lista):\n",
        "  lixo = '.,:;?!\"´`^~()[]{}/\\|@#$%¨&*-'\n",
        "  quase_limpo = [x.strip(lixo).lower() for x in lista]\n",
        "  return [x for x in quase_limpo if x.isalpha() or '-' not in x]"
      ],
      "metadata": {
        "id": "7VgvRnGwuby8"
      },
      "execution_count": null,
      "outputs": []
    },
    {
      "cell_type": "code",
      "source": [
        "teste = \"Corre-se atrás do cachorro, corre se o cachorro for embora.\"\n",
        "word = teste.split()\n",
        "print(word)"
      ],
      "metadata": {
        "colab": {
          "base_uri": "https://localhost:8080/"
        },
        "id": "FPPoNGiMwKzc",
        "outputId": "be1f3cff-c8d6-46fe-dd39-59609cec986a"
      },
      "execution_count": null,
      "outputs": [
        {
          "output_type": "stream",
          "name": "stdout",
          "text": [
            "['Corre-se', 'atrás', 'do', 'cachorro,', 'corre', 'se', 'o', 'cachorro', 'for', 'embora.']\n"
          ]
        }
      ]
    },
    {
      "cell_type": "code",
      "source": [
        "print(limpar(word))"
      ],
      "metadata": {
        "colab": {
          "base_uri": "https://localhost:8080/"
        },
        "id": "Vx3pUJwZwn_Y",
        "outputId": "9567362e-3e74-496d-992b-b58ac5923c81"
      },
      "execution_count": null,
      "outputs": [
        {
          "output_type": "stream",
          "name": "stdout",
          "text": [
            "['atrás', 'do', 'cachorro', 'corre', 'se', 'o', 'cachorro', 'for', 'embora']\n"
          ]
        }
      ]
    },
    {
      "cell_type": "code",
      "source": [
        "print(len(palavras))\n",
        "palavras = limpar(palavras)\n",
        "print(len(palavras))"
      ],
      "metadata": {
        "colab": {
          "base_uri": "https://localhost:8080/"
        },
        "id": "8rUitVy-w2Zk",
        "outputId": "49cc1be2-bfba-4499-9e52-39305f3c817e"
      },
      "execution_count": null,
      "outputs": [
        {
          "output_type": "stream",
          "name": "stdout",
          "text": [
            "37139\n",
            "36585\n"
          ]
        }
      ]
    },
    {
      "cell_type": "markdown",
      "source": [
        "#### Descrevendo os métodos utilizados na limpeza\n",
        "* split() - transformar um texto, em uma lista de palavras\n",
        "* strip() - eliminar sinais ou caracteres no começo ou no fim de uma palavra\n",
        "* isalpha - realizar um filtro eliminando números ou símbolos de uma lista de referência"
      ],
      "metadata": {
        "id": "var6VjeH0bhn"
      }
    },
    {
      "cell_type": "markdown",
      "source": [
        "## <b>Parte 2</b> - Demostração de estruturas funcionais"
      ],
      "metadata": {
        "id": "BXTlHUPcfJQc"
      }
    },
    {
      "cell_type": "markdown",
      "source": [
        "### Exemplo 01 - POS Tagging com Spacy"
      ],
      "metadata": {
        "id": "GiQ8t1hQmHcd"
      }
    },
    {
      "cell_type": "code",
      "source": [
        "!pip install spacy\n",
        "!python -m spacy download pt_core_news_sm"
      ],
      "metadata": {
        "colab": {
          "base_uri": "https://localhost:8080/"
        },
        "id": "JixSUNWjfco7",
        "outputId": "d86c16d3-667c-4beb-f03e-b3d302f3b3ac"
      },
      "execution_count": 1,
      "outputs": [
        {
          "output_type": "stream",
          "name": "stdout",
          "text": [
            "Requirement already satisfied: spacy in /usr/local/lib/python3.11/dist-packages (3.8.5)\n",
            "Requirement already satisfied: spacy-legacy<3.1.0,>=3.0.11 in /usr/local/lib/python3.11/dist-packages (from spacy) (3.0.12)\n",
            "Requirement already satisfied: spacy-loggers<2.0.0,>=1.0.0 in /usr/local/lib/python3.11/dist-packages (from spacy) (1.0.5)\n",
            "Requirement already satisfied: murmurhash<1.1.0,>=0.28.0 in /usr/local/lib/python3.11/dist-packages (from spacy) (1.0.12)\n",
            "Requirement already satisfied: cymem<2.1.0,>=2.0.2 in /usr/local/lib/python3.11/dist-packages (from spacy) (2.0.11)\n",
            "Requirement already satisfied: preshed<3.1.0,>=3.0.2 in /usr/local/lib/python3.11/dist-packages (from spacy) (3.0.9)\n",
            "Requirement already satisfied: thinc<8.4.0,>=8.3.4 in /usr/local/lib/python3.11/dist-packages (from spacy) (8.3.4)\n",
            "Requirement already satisfied: wasabi<1.2.0,>=0.9.1 in /usr/local/lib/python3.11/dist-packages (from spacy) (1.1.3)\n",
            "Requirement already satisfied: srsly<3.0.0,>=2.4.3 in /usr/local/lib/python3.11/dist-packages (from spacy) (2.5.1)\n",
            "Requirement already satisfied: catalogue<2.1.0,>=2.0.6 in /usr/local/lib/python3.11/dist-packages (from spacy) (2.0.10)\n",
            "Requirement already satisfied: weasel<0.5.0,>=0.1.0 in /usr/local/lib/python3.11/dist-packages (from spacy) (0.4.1)\n",
            "Requirement already satisfied: typer<1.0.0,>=0.3.0 in /usr/local/lib/python3.11/dist-packages (from spacy) (0.15.2)\n",
            "Requirement already satisfied: tqdm<5.0.0,>=4.38.0 in /usr/local/lib/python3.11/dist-packages (from spacy) (4.67.1)\n",
            "Requirement already satisfied: numpy>=1.19.0 in /usr/local/lib/python3.11/dist-packages (from spacy) (2.0.2)\n",
            "Requirement already satisfied: requests<3.0.0,>=2.13.0 in /usr/local/lib/python3.11/dist-packages (from spacy) (2.32.3)\n",
            "Requirement already satisfied: pydantic!=1.8,!=1.8.1,<3.0.0,>=1.7.4 in /usr/local/lib/python3.11/dist-packages (from spacy) (2.11.2)\n",
            "Requirement already satisfied: jinja2 in /usr/local/lib/python3.11/dist-packages (from spacy) (3.1.6)\n",
            "Requirement already satisfied: setuptools in /usr/local/lib/python3.11/dist-packages (from spacy) (75.2.0)\n",
            "Requirement already satisfied: packaging>=20.0 in /usr/local/lib/python3.11/dist-packages (from spacy) (24.2)\n",
            "Requirement already satisfied: langcodes<4.0.0,>=3.2.0 in /usr/local/lib/python3.11/dist-packages (from spacy) (3.5.0)\n",
            "Requirement already satisfied: language-data>=1.2 in /usr/local/lib/python3.11/dist-packages (from langcodes<4.0.0,>=3.2.0->spacy) (1.3.0)\n",
            "Requirement already satisfied: annotated-types>=0.6.0 in /usr/local/lib/python3.11/dist-packages (from pydantic!=1.8,!=1.8.1,<3.0.0,>=1.7.4->spacy) (0.7.0)\n",
            "Requirement already satisfied: pydantic-core==2.33.1 in /usr/local/lib/python3.11/dist-packages (from pydantic!=1.8,!=1.8.1,<3.0.0,>=1.7.4->spacy) (2.33.1)\n",
            "Requirement already satisfied: typing-extensions>=4.12.2 in /usr/local/lib/python3.11/dist-packages (from pydantic!=1.8,!=1.8.1,<3.0.0,>=1.7.4->spacy) (4.13.1)\n",
            "Requirement already satisfied: typing-inspection>=0.4.0 in /usr/local/lib/python3.11/dist-packages (from pydantic!=1.8,!=1.8.1,<3.0.0,>=1.7.4->spacy) (0.4.0)\n",
            "Requirement already satisfied: charset-normalizer<4,>=2 in /usr/local/lib/python3.11/dist-packages (from requests<3.0.0,>=2.13.0->spacy) (3.4.1)\n",
            "Requirement already satisfied: idna<4,>=2.5 in /usr/local/lib/python3.11/dist-packages (from requests<3.0.0,>=2.13.0->spacy) (3.10)\n",
            "Requirement already satisfied: urllib3<3,>=1.21.1 in /usr/local/lib/python3.11/dist-packages (from requests<3.0.0,>=2.13.0->spacy) (2.3.0)\n",
            "Requirement already satisfied: certifi>=2017.4.17 in /usr/local/lib/python3.11/dist-packages (from requests<3.0.0,>=2.13.0->spacy) (2025.1.31)\n",
            "Requirement already satisfied: blis<1.3.0,>=1.2.0 in /usr/local/lib/python3.11/dist-packages (from thinc<8.4.0,>=8.3.4->spacy) (1.2.1)\n",
            "Requirement already satisfied: confection<1.0.0,>=0.0.1 in /usr/local/lib/python3.11/dist-packages (from thinc<8.4.0,>=8.3.4->spacy) (0.1.5)\n",
            "Requirement already satisfied: click>=8.0.0 in /usr/local/lib/python3.11/dist-packages (from typer<1.0.0,>=0.3.0->spacy) (8.1.8)\n",
            "Requirement already satisfied: shellingham>=1.3.0 in /usr/local/lib/python3.11/dist-packages (from typer<1.0.0,>=0.3.0->spacy) (1.5.4)\n",
            "Requirement already satisfied: rich>=10.11.0 in /usr/local/lib/python3.11/dist-packages (from typer<1.0.0,>=0.3.0->spacy) (13.9.4)\n",
            "Requirement already satisfied: cloudpathlib<1.0.0,>=0.7.0 in /usr/local/lib/python3.11/dist-packages (from weasel<0.5.0,>=0.1.0->spacy) (0.21.0)\n",
            "Requirement already satisfied: smart-open<8.0.0,>=5.2.1 in /usr/local/lib/python3.11/dist-packages (from weasel<0.5.0,>=0.1.0->spacy) (7.1.0)\n",
            "Requirement already satisfied: MarkupSafe>=2.0 in /usr/local/lib/python3.11/dist-packages (from jinja2->spacy) (3.0.2)\n",
            "Requirement already satisfied: marisa-trie>=1.1.0 in /usr/local/lib/python3.11/dist-packages (from language-data>=1.2->langcodes<4.0.0,>=3.2.0->spacy) (1.2.1)\n",
            "Requirement already satisfied: markdown-it-py>=2.2.0 in /usr/local/lib/python3.11/dist-packages (from rich>=10.11.0->typer<1.0.0,>=0.3.0->spacy) (3.0.0)\n",
            "Requirement already satisfied: pygments<3.0.0,>=2.13.0 in /usr/local/lib/python3.11/dist-packages (from rich>=10.11.0->typer<1.0.0,>=0.3.0->spacy) (2.18.0)\n",
            "Requirement already satisfied: wrapt in /usr/local/lib/python3.11/dist-packages (from smart-open<8.0.0,>=5.2.1->weasel<0.5.0,>=0.1.0->spacy) (1.17.2)\n",
            "Requirement already satisfied: mdurl~=0.1 in /usr/local/lib/python3.11/dist-packages (from markdown-it-py>=2.2.0->rich>=10.11.0->typer<1.0.0,>=0.3.0->spacy) (0.1.2)\n",
            "Collecting pt-core-news-sm==3.8.0\n",
            "  Downloading https://github.com/explosion/spacy-models/releases/download/pt_core_news_sm-3.8.0/pt_core_news_sm-3.8.0-py3-none-any.whl (13.0 MB)\n",
            "\u001b[2K     \u001b[90m━━━━━━━━━━━━━━━━━━━━━━━━━━━━━━━━━━━━━━━━\u001b[0m \u001b[32m13.0/13.0 MB\u001b[0m \u001b[31m96.7 MB/s\u001b[0m eta \u001b[36m0:00:00\u001b[0m\n",
            "\u001b[?25hInstalling collected packages: pt-core-news-sm\n",
            "Successfully installed pt-core-news-sm-3.8.0\n",
            "\u001b[38;5;2m✔ Download and installation successful\u001b[0m\n",
            "You can now load the package via spacy.load('pt_core_news_sm')\n",
            "\u001b[38;5;3m⚠ Restart to reload dependencies\u001b[0m\n",
            "If you are in a Jupyter or Colab notebook, you may need to restart Python in\n",
            "order to load all the package's dependencies. You can do this by selecting the\n",
            "'Restart kernel' or 'Restart runtime' option.\n"
          ]
        }
      ]
    },
    {
      "cell_type": "code",
      "source": [
        "import spacy\n",
        "\n",
        "nlp = spacy.load('pt_core_news_sm')\n",
        "\n",
        "frase = input(\"Insira uma frase gramaticamente correta: \")\n",
        "\n",
        "doc = nlp(frase)\n",
        "\n",
        "for token in doc:\n",
        "  print(f\"{token.text} -> {token.pos_}\")"
      ],
      "metadata": {
        "colab": {
          "base_uri": "https://localhost:8080/"
        },
        "id": "7ZP7TWFemn3x",
        "outputId": "db206342-87ef-47fc-b38b-0e6b8a531efb"
      },
      "execution_count": 2,
      "outputs": [
        {
          "output_type": "stream",
          "name": "stdout",
          "text": [
            "Insira uma frase gramaticamente correta: Nós fizemos uma grande descoberta\n",
            "Nós -> PRON\n",
            "fizemos -> VERB\n",
            "uma -> DET\n",
            "grande -> ADJ\n",
            "descoberta -> NOUN\n"
          ]
        }
      ]
    },
    {
      "cell_type": "markdown",
      "source": [
        "### Exemplo 02 - Pos Tagging com NLTK (somente em inglês)"
      ],
      "metadata": {
        "id": "tJtm9uXeoPDu"
      }
    },
    {
      "cell_type": "code",
      "source": [
        "!pip install nltk"
      ],
      "metadata": {
        "colab": {
          "base_uri": "https://localhost:8080/"
        },
        "id": "LEoKeLyXof9o",
        "outputId": "d5aa2d9d-a011-477b-cbef-016d80391b5f"
      },
      "execution_count": null,
      "outputs": [
        {
          "output_type": "stream",
          "name": "stdout",
          "text": [
            "Requirement already satisfied: nltk in /usr/local/lib/python3.11/dist-packages (3.9.1)\n",
            "Requirement already satisfied: click in /usr/local/lib/python3.11/dist-packages (from nltk) (8.1.8)\n",
            "Requirement already satisfied: joblib in /usr/local/lib/python3.11/dist-packages (from nltk) (1.4.2)\n",
            "Requirement already satisfied: regex>=2021.8.3 in /usr/local/lib/python3.11/dist-packages (from nltk) (2024.11.6)\n",
            "Requirement already satisfied: tqdm in /usr/local/lib/python3.11/dist-packages (from nltk) (4.67.1)\n"
          ]
        }
      ]
    },
    {
      "cell_type": "code",
      "source": [
        "import nltk\n",
        "nltk.download(\"averaged_perceptron_tagger\")\n",
        "nltk.download('punkt_tab')\n",
        "nltk.download('averaged_perceptron_tagger_eng')\n",
        "\n",
        "frase = input(\"Insira uma frase, coerente: \")\n",
        "tokens = nltk.word_tokenize(frase)\n",
        "\n",
        "pos_tags = nltk.pos_tag(tokens)\n",
        "\n",
        "for palavra, classe in pos_tags:\n",
        "  print(f'{palavra}->{classe}')"
      ],
      "metadata": {
        "colab": {
          "base_uri": "https://localhost:8080/"
        },
        "id": "SZKu2dlVojlv",
        "outputId": "1b5dba13-d263-4956-99a2-3a7f0b1dc01b"
      },
      "execution_count": null,
      "outputs": [
        {
          "output_type": "stream",
          "name": "stderr",
          "text": [
            "[nltk_data] Downloading package averaged_perceptron_tagger to\n",
            "[nltk_data]     /root/nltk_data...\n",
            "[nltk_data]   Package averaged_perceptron_tagger is already up-to-\n",
            "[nltk_data]       date!\n",
            "[nltk_data] Downloading package punkt_tab to /root/nltk_data...\n",
            "[nltk_data]   Package punkt_tab is already up-to-date!\n",
            "[nltk_data] Downloading package averaged_perceptron_tagger_eng to\n",
            "[nltk_data]     /root/nltk_data...\n",
            "[nltk_data]   Unzipping taggers/averaged_perceptron_tagger_eng.zip.\n"
          ]
        },
        {
          "output_type": "stream",
          "name": "stdout",
          "text": [
            "Insira uma frase, coerente: Good evening class, let's study NLP.\n",
            "Good->JJ\n",
            "evening->NN\n",
            "class->NN\n",
            ",->,\n",
            "let->VB\n",
            "'s->POS\n",
            "study->VB\n",
            "NLP->NNP\n",
            ".->.\n"
          ]
        }
      ]
    },
    {
      "cell_type": "markdown",
      "source": [
        "### Exemplo 03 - Parsing de Dependência com spacy"
      ],
      "metadata": {
        "id": "712fjSmXql1-"
      }
    },
    {
      "cell_type": "code",
      "source": [
        "import spacy\n",
        "\n",
        "nlp = spacy.load('pt_core_news_sm')\n",
        "\n",
        "frase = \"O gato preto dorme na cadeira\"\n",
        "\n",
        "doc = nlp(frase)\n",
        "\n",
        "for token in doc:\n",
        "  print(f\"{token.text} -> {token.dep_} -> {token.head.text}\")"
      ],
      "metadata": {
        "colab": {
          "base_uri": "https://localhost:8080/"
        },
        "id": "RzUZI1UFq2VV",
        "outputId": "0f719f98-ebe2-4373-8a19-428c2d932404"
      },
      "execution_count": null,
      "outputs": [
        {
          "output_type": "stream",
          "name": "stdout",
          "text": [
            "O -> det -> gato\n",
            "gato -> ROOT -> gato\n",
            "preto -> amod -> gato\n",
            "dorme -> amod -> gato\n",
            "na -> case -> cadeira\n",
            "cadeira -> nmod -> gato\n"
          ]
        }
      ]
    },
    {
      "cell_type": "markdown",
      "source": [
        "### Exemplo 04 - Análise de Dependência com spacy"
      ],
      "metadata": {
        "id": "1-oKQdaCrrYG"
      }
    },
    {
      "cell_type": "code",
      "source": [
        "import spacy\n",
        "from spacy import displacy\n",
        "\n",
        "nlp = spacy.load('pt_core_news_sm')\n",
        "\n",
        "frase = \"O gato preto dorme na cadeira\"\n",
        "\n",
        "doc = nlp(frase)\n",
        "\n",
        "displacy.render(doc, style='dep', jupyter=True)"
      ],
      "metadata": {
        "colab": {
          "base_uri": "https://localhost:8080/",
          "height": 421
        },
        "id": "kC1e-PY_r4jn",
        "outputId": "8cac1e1d-f590-4498-8dea-b0125de6e1a7"
      },
      "execution_count": null,
      "outputs": [
        {
          "output_type": "display_data",
          "data": {
            "text/plain": [
              "<IPython.core.display.HTML object>"
            ],
            "text/html": [
              "<span class=\"tex2jax_ignore\"><svg xmlns=\"http://www.w3.org/2000/svg\" xmlns:xlink=\"http://www.w3.org/1999/xlink\" xml:lang=\"pt\" id=\"32944e5995d34b6f9da4ff54fc089cf4-0\" class=\"displacy\" width=\"1100\" height=\"399.5\" direction=\"ltr\" style=\"max-width: none; height: 399.5px; color: #000000; background: #ffffff; font-family: Arial; direction: ltr\">\n",
              "<text class=\"displacy-token\" fill=\"currentColor\" text-anchor=\"middle\" y=\"309.5\">\n",
              "    <tspan class=\"displacy-word\" fill=\"currentColor\" x=\"50\">O</tspan>\n",
              "    <tspan class=\"displacy-tag\" dy=\"2em\" fill=\"currentColor\" x=\"50\">DET</tspan>\n",
              "</text>\n",
              "\n",
              "<text class=\"displacy-token\" fill=\"currentColor\" text-anchor=\"middle\" y=\"309.5\">\n",
              "    <tspan class=\"displacy-word\" fill=\"currentColor\" x=\"225\">gato</tspan>\n",
              "    <tspan class=\"displacy-tag\" dy=\"2em\" fill=\"currentColor\" x=\"225\">NOUN</tspan>\n",
              "</text>\n",
              "\n",
              "<text class=\"displacy-token\" fill=\"currentColor\" text-anchor=\"middle\" y=\"309.5\">\n",
              "    <tspan class=\"displacy-word\" fill=\"currentColor\" x=\"400\">preto</tspan>\n",
              "    <tspan class=\"displacy-tag\" dy=\"2em\" fill=\"currentColor\" x=\"400\">ADJ</tspan>\n",
              "</text>\n",
              "\n",
              "<text class=\"displacy-token\" fill=\"currentColor\" text-anchor=\"middle\" y=\"309.5\">\n",
              "    <tspan class=\"displacy-word\" fill=\"currentColor\" x=\"575\">dorme</tspan>\n",
              "    <tspan class=\"displacy-tag\" dy=\"2em\" fill=\"currentColor\" x=\"575\">VERB</tspan>\n",
              "</text>\n",
              "\n",
              "<text class=\"displacy-token\" fill=\"currentColor\" text-anchor=\"middle\" y=\"309.5\">\n",
              "    <tspan class=\"displacy-word\" fill=\"currentColor\" x=\"750\">na</tspan>\n",
              "    <tspan class=\"displacy-tag\" dy=\"2em\" fill=\"currentColor\" x=\"750\">ADP</tspan>\n",
              "</text>\n",
              "\n",
              "<text class=\"displacy-token\" fill=\"currentColor\" text-anchor=\"middle\" y=\"309.5\">\n",
              "    <tspan class=\"displacy-word\" fill=\"currentColor\" x=\"925\">cadeira</tspan>\n",
              "    <tspan class=\"displacy-tag\" dy=\"2em\" fill=\"currentColor\" x=\"925\">NOUN</tspan>\n",
              "</text>\n",
              "\n",
              "<g class=\"displacy-arrow\">\n",
              "    <path class=\"displacy-arc\" id=\"arrow-32944e5995d34b6f9da4ff54fc089cf4-0-0\" stroke-width=\"2px\" d=\"M70,264.5 C70,177.0 215.0,177.0 215.0,264.5\" fill=\"none\" stroke=\"currentColor\"/>\n",
              "    <text dy=\"1.25em\" style=\"font-size: 0.8em; letter-spacing: 1px\">\n",
              "        <textPath xlink:href=\"#arrow-32944e5995d34b6f9da4ff54fc089cf4-0-0\" class=\"displacy-label\" startOffset=\"50%\" side=\"left\" fill=\"currentColor\" text-anchor=\"middle\">det</textPath>\n",
              "    </text>\n",
              "    <path class=\"displacy-arrowhead\" d=\"M70,266.5 L62,254.5 78,254.5\" fill=\"currentColor\"/>\n",
              "</g>\n",
              "\n",
              "<g class=\"displacy-arrow\">\n",
              "    <path class=\"displacy-arc\" id=\"arrow-32944e5995d34b6f9da4ff54fc089cf4-0-1\" stroke-width=\"2px\" d=\"M245,264.5 C245,177.0 390.0,177.0 390.0,264.5\" fill=\"none\" stroke=\"currentColor\"/>\n",
              "    <text dy=\"1.25em\" style=\"font-size: 0.8em; letter-spacing: 1px\">\n",
              "        <textPath xlink:href=\"#arrow-32944e5995d34b6f9da4ff54fc089cf4-0-1\" class=\"displacy-label\" startOffset=\"50%\" side=\"left\" fill=\"currentColor\" text-anchor=\"middle\">amod</textPath>\n",
              "    </text>\n",
              "    <path class=\"displacy-arrowhead\" d=\"M390.0,266.5 L398.0,254.5 382.0,254.5\" fill=\"currentColor\"/>\n",
              "</g>\n",
              "\n",
              "<g class=\"displacy-arrow\">\n",
              "    <path class=\"displacy-arc\" id=\"arrow-32944e5995d34b6f9da4ff54fc089cf4-0-2\" stroke-width=\"2px\" d=\"M245,264.5 C245,89.5 570.0,89.5 570.0,264.5\" fill=\"none\" stroke=\"currentColor\"/>\n",
              "    <text dy=\"1.25em\" style=\"font-size: 0.8em; letter-spacing: 1px\">\n",
              "        <textPath xlink:href=\"#arrow-32944e5995d34b6f9da4ff54fc089cf4-0-2\" class=\"displacy-label\" startOffset=\"50%\" side=\"left\" fill=\"currentColor\" text-anchor=\"middle\">amod</textPath>\n",
              "    </text>\n",
              "    <path class=\"displacy-arrowhead\" d=\"M570.0,266.5 L578.0,254.5 562.0,254.5\" fill=\"currentColor\"/>\n",
              "</g>\n",
              "\n",
              "<g class=\"displacy-arrow\">\n",
              "    <path class=\"displacy-arc\" id=\"arrow-32944e5995d34b6f9da4ff54fc089cf4-0-3\" stroke-width=\"2px\" d=\"M770,264.5 C770,177.0 915.0,177.0 915.0,264.5\" fill=\"none\" stroke=\"currentColor\"/>\n",
              "    <text dy=\"1.25em\" style=\"font-size: 0.8em; letter-spacing: 1px\">\n",
              "        <textPath xlink:href=\"#arrow-32944e5995d34b6f9da4ff54fc089cf4-0-3\" class=\"displacy-label\" startOffset=\"50%\" side=\"left\" fill=\"currentColor\" text-anchor=\"middle\">case</textPath>\n",
              "    </text>\n",
              "    <path class=\"displacy-arrowhead\" d=\"M770,266.5 L762,254.5 778,254.5\" fill=\"currentColor\"/>\n",
              "</g>\n",
              "\n",
              "<g class=\"displacy-arrow\">\n",
              "    <path class=\"displacy-arc\" id=\"arrow-32944e5995d34b6f9da4ff54fc089cf4-0-4\" stroke-width=\"2px\" d=\"M245,264.5 C245,2.0 925.0,2.0 925.0,264.5\" fill=\"none\" stroke=\"currentColor\"/>\n",
              "    <text dy=\"1.25em\" style=\"font-size: 0.8em; letter-spacing: 1px\">\n",
              "        <textPath xlink:href=\"#arrow-32944e5995d34b6f9da4ff54fc089cf4-0-4\" class=\"displacy-label\" startOffset=\"50%\" side=\"left\" fill=\"currentColor\" text-anchor=\"middle\">nmod</textPath>\n",
              "    </text>\n",
              "    <path class=\"displacy-arrowhead\" d=\"M925.0,266.5 L933.0,254.5 917.0,254.5\" fill=\"currentColor\"/>\n",
              "</g>\n",
              "</svg></span>"
            ]
          },
          "metadata": {}
        }
      ]
    },
    {
      "cell_type": "markdown",
      "source": [
        "### Exemplo 05 - Análise de Constituência com NLTK"
      ],
      "metadata": {
        "id": "sW7wEQ2isL_8"
      }
    },
    {
      "cell_type": "code",
      "source": [
        "import nltk\n",
        "from nltk import Tree\n",
        "\n",
        "sintaxe = Tree('S',[\n",
        "    Tree('NP',['O','gato','preto']),\n",
        "    Tree('VP',['dorme','na','cadeira'])\n",
        "])\n",
        "\n",
        "sintaxe.pretty_print()"
      ],
      "metadata": {
        "colab": {
          "base_uri": "https://localhost:8080/"
        },
        "id": "SO0Ddo3isYio",
        "outputId": "cf87081d-5733-43ef-dc84-bdae58563ebb"
      },
      "execution_count": null,
      "outputs": [
        {
          "output_type": "stream",
          "name": "stdout",
          "text": [
            "           S                    \n",
            "      _____|__________           \n",
            "     NP               VP        \n",
            "  ___|_____       ____|_____     \n",
            " O  gato preto dorme  na cadeira\n",
            "\n"
          ]
        }
      ]
    }
  ]
}