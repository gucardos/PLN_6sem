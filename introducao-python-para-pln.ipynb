{
  "nbformat": 4,
  "nbformat_minor": 0,
  "metadata": {
    "colab": {
      "provenance": [],
      "collapsed_sections": [
        "JndVk-ayqffP",
        "PL2V54J_sNsO",
        "3hIzQloW3cmG",
        "FdHwT99O9pc8",
        "3-DC4SnOBPEE",
        "kA-RTrlpZq7k",
        "1aTlp27F4pNX",
        "qxUfFhGt6dbB",
        "wGJUHOMC7oxp",
        "cHyPiay8_0Nb",
        "jOIzwdNkDQ6u",
        "9AXyYad7UvO6",
        "bf5fhCV8YXNU"
      ],
      "authorship_tag": "ABX9TyO/yKoRptLSmKxvnCbVvfjP",
      "include_colab_link": true
    },
    "kernelspec": {
      "name": "python3",
      "display_name": "Python 3"
    },
    "language_info": {
      "name": "python"
    }
  },
  "cells": [
    {
      "cell_type": "markdown",
      "metadata": {
        "id": "view-in-github",
        "colab_type": "text"
      },
      "source": [
        "<a href=\"https://colab.research.google.com/github/gucardos/PLN_6sem/blob/main/Aula02_PLN.ipynb\" target=\"_parent\"><img src=\"https://colab.research.google.com/assets/colab-badge.svg\" alt=\"Open In Colab\"/></a>"
      ]
    },
    {
      "cell_type": "markdown",
      "source": [
        "\n",
        "# Aula 2 - Python e bibliotecas para PLN"
      ],
      "metadata": {
        "id": "AZsTY7soqWf8"
      }
    },
    {
      "cell_type": "markdown",
      "source": [
        "## exemplo 01 - Sintaxe Básica"
      ],
      "metadata": {
        "id": "JndVk-ayqffP"
      }
    },
    {
      "cell_type": "code",
      "source": [
        "# comentário pode ser feito de duas maneiras.\n",
        "print(\"eu posso ler esta parte.\")\n",
        "\n",
        "# a maneira mais simples é usar # para comentar uma linha\n",
        "print(\"Esta parte eu posso ler.\")\n",
        "\n",
        "\"\"\" e a mais complexa é usar 3 aspas (simples ou dupla)\n",
        "para comentar várias linhas\n",
        "linhas\n",
        "linhas\n",
        "\"\"\""
      ],
      "metadata": {
        "colab": {
          "base_uri": "https://localhost:8080/",
          "height": 87
        },
        "id": "uEETNXvrqD1M",
        "outputId": "46f209b7-d13b-4beb-9861-64187af846ca"
      },
      "execution_count": null,
      "outputs": [
        {
          "output_type": "stream",
          "name": "stdout",
          "text": [
            "eu posso ler esta parte.\n",
            "Esta parte eu posso ler.\n"
          ]
        },
        {
          "output_type": "execute_result",
          "data": {
            "text/plain": [
              "' e a mais complexa é usar 3 aspas (simples ou dupla)\\npara comentar várias linhas\\nlinhas \\nlinhas\\n'"
            ],
            "application/vnd.google.colaboratory.intrinsic+json": {
              "type": "string"
            }
          },
          "metadata": {},
          "execution_count": 2
        }
      ]
    },
    {
      "cell_type": "code",
      "source": [],
      "metadata": {
        "id": "HxfozPJ_sD-m"
      },
      "execution_count": null,
      "outputs": []
    },
    {
      "cell_type": "markdown",
      "source": [
        "## exemplo 02 - Atribuição de variáveis"
      ],
      "metadata": {
        "id": "PL2V54J_sNsO"
      }
    },
    {
      "cell_type": "code",
      "source": [
        "# tudo é tratado como objeto (armazenar duas coisas - o que é e o valor)\n",
        "carros = 100 # inteiro\n",
        "  #objeto = numero inteiro , valor = 100 - rotulo --> nome da variável [cars]\n",
        "espacoNoCarro = 4.0 # real ou ponto flutuante\n",
        "motoristas = 30\n",
        "passageiros = 90\n",
        "carrosSemMotoristas = carros - motoristas\n",
        "carrosComMotoristas = motoristas\n",
        "capacidadeDePassgeiros = carrosComMotoristas * espacoNoCarro\n",
        "mediaDePassagirosPorCarro = passageiros / carrosComMotoristas\n",
        "\n",
        "print(\"Existem\", carros, \"disponíveis. \")\n",
        "print(f\"Existem apenas {motoristas} disponíveis. \")\n",
        "print(\"Nos podemos transportar {} pessoas hoje\".format({capacidadeDePassgeiros}))\n",
        "print(100/5)\n",
        "print(\"{} + {} + {} + {}\".format(mediaDePassagirosPorCarro,capacidadeDePassgeiros,carrosComMotoristas,carrosSemMotoristas))\n",
        "print(f\"{mediaDePassagirosPorCarro} + {capacidadeDePassgeiros} + {carrosComMotoristas} + {carrosSemMotoristas}\")\n",
        "  # a operação molda o tipo de dado que vai ser apresentado\n",
        "  # int / int = real"
      ],
      "metadata": {
        "colab": {
          "base_uri": "https://localhost:8080/"
        },
        "id": "HR2_mpYzsVQB",
        "outputId": "f1ff3b2f-1e1b-4a03-8b1f-f15ad6e8f5af"
      },
      "execution_count": null,
      "outputs": [
        {
          "output_type": "stream",
          "name": "stdout",
          "text": [
            "Existem 100 disponíveis. \n",
            "Existem apenas 30 disponíveis. \n",
            "Nos podemos transportar {120.0} pessoas hoje\n",
            "20.0\n",
            "3.0 + 120.0 + 30 + 70\n",
            "3.0 + 120.0 + 30 + 70\n"
          ]
        }
      ]
    },
    {
      "cell_type": "markdown",
      "source": [
        "## Exemplo 03 - Entradas e Saídas"
      ],
      "metadata": {
        "id": "3hIzQloW3cmG"
      }
    },
    {
      "cell_type": "code",
      "source": [
        "print(\"Quantos anos você tem?\")\n",
        "idade = input()\n",
        "print(f\"O Rodolfo tem {idade} anos.\")\n",
        "\n",
        "altura = input(\"Qual é a sua altura? \")\n",
        "\n",
        "print(f\"A altura do professor é {altura} cm.\")\n",
        "print(\"O tipo de dado da idade é\", type(idade))\n",
        "print(\"O tipo de dado da altura é\", type(altura))\n",
        "print(idade + altura)\n",
        "\n",
        "ValorIdade = int(idade)\n",
        "print(\"O tipo de dado da ValorIdade é \", type(ValorIdade))\n",
        "ValorAltura = int(altura)\n",
        "print(\"O tipo de dado da ValorAltura é \", type(ValorAltura))\n",
        "print(ValorIdade + ValorAltura)\n",
        "\n",
        "peso = int(input(\"Qual é o seu peso:\"))\n",
        "print(\"\\nO tipo de dado do peso é\",type(peso))\n"
      ],
      "metadata": {
        "colab": {
          "base_uri": "https://localhost:8080/"
        },
        "collapsed": true,
        "id": "DBNiK3w53sbD",
        "outputId": "e67f7c61-8e9c-4587-86f0-ca33c15d9fba"
      },
      "execution_count": null,
      "outputs": [
        {
          "output_type": "stream",
          "name": "stdout",
          "text": [
            "Quantos anos você tem?\n",
            "40\n",
            "O Rodolfo tem 40 anos.\n",
            "Qual é a sua altura? 183\n",
            "A altura do professor é 183 cm.\n",
            "O tipo de dado da idade é <class 'str'>\n",
            "O tipo de dado da altura é <class 'str'>\n",
            "40183\n",
            "O tipo de dado da ValorIdade é  <class 'int'>\n",
            "O tipo de dado da ValorAltura é  <class 'int'>\n",
            "223\n",
            "Qual é o seu peso:80\n",
            "\n",
            "O tipo de dado do peso é <class 'int'>\n"
          ]
        }
      ]
    },
    {
      "cell_type": "markdown",
      "source": [
        "## Exemplo 04 - Operadores"
      ],
      "metadata": {
        "id": "FdHwT99O9pc8"
      }
    },
    {
      "cell_type": "code",
      "source": [
        "print(\"Contando aves do meu galinheiro.\")\n",
        "print(\"Franguinhos\", 25 + 30 / 6)\n",
        "print(\"Galos\", 100.0 - 25 * 3 % 4)\n",
        "\n",
        "print(\"Agora vou contar os ovos. \")\n",
        "print(3 + 2 + 1 - 5 + 4 % 2 - 1 / 4 + 6 )\n",
        "\n",
        "print(\"Este resultado é verdadeiro: 3 + 2 < 5 -7?\")\n",
        "print(3 + 2 < 5 - 7)\n",
        "print(\"Quanto é 3 + 2?\", 3 + 2)\n",
        "print(\"Quanto é 5 - 7?\", 5 - 7)\n",
        "print(\"O que é maior?\", 5 > -2)"
      ],
      "metadata": {
        "colab": {
          "base_uri": "https://localhost:8080/"
        },
        "id": "cvQjsRqn9yjb",
        "outputId": "a2eff972-66a4-4f62-aba3-047ca18e0ba9"
      },
      "execution_count": null,
      "outputs": [
        {
          "output_type": "stream",
          "name": "stdout",
          "text": [
            "Contando aves do meu galinheiro.\n",
            "Franguinhos 30.0\n",
            "Galos 97.0\n",
            "Agora vou contar os ovos. \n",
            "6.75\n",
            "Este resultado é verdadeiro: 3 + 2 < 5 -7?\n",
            "False\n",
            "Quanto é 3 + 2? 5\n",
            "Quanto é 5 - 7? -2\n",
            "O que é maior? True\n"
          ]
        }
      ]
    },
    {
      "cell_type": "markdown",
      "source": [
        "## Exemplo 05 - estruturas condicionais"
      ],
      "metadata": {
        "id": "3-DC4SnOBPEE"
      }
    },
    {
      "cell_type": "code",
      "source": [
        "pessoas = 30\n",
        "carros = 40\n",
        "caminhoes = 15\n",
        "# desvio condicional simples\n",
        "if (carros > pessoas):\n",
        "  print(\"Nos podemos pegar um carro.\")\n",
        "\n",
        "# desvio condicional composto\n",
        "if (carros < pessoas):\n",
        "  print(\"\\nlinha de condição 2 verdadeira 1\")\n",
        "  print(\"\\nlinha de condição 2 verdadeira 2\")\n",
        "else:\n",
        "  print(\"\\nlinha de condição 2 falsa\")\n",
        "\n",
        "if(carros < pessoas):\n",
        "  print(\"\\nlinha de condição 1\")\n",
        "elif(carros < caminhoes):\n",
        "  print(\"\\nlinha de condição 2\")\n",
        "elif(caminhoes == pessoas):\n",
        "  print(\"\\nlinha de condição 3\")\n",
        "else:\n",
        "  print(\"\\nlinha de condição 4\")"
      ],
      "metadata": {
        "colab": {
          "base_uri": "https://localhost:8080/"
        },
        "collapsed": true,
        "id": "DW11HFMQBpuu",
        "outputId": "8c78ebf3-82cb-4297-88bc-6d45b9833f01"
      },
      "execution_count": null,
      "outputs": [
        {
          "output_type": "stream",
          "name": "stdout",
          "text": [
            "Nos podemos pegar um carro.\n",
            "\n",
            "linha de condição 2 falsa\n",
            "\n",
            "linha de condição 4\n"
          ]
        }
      ]
    },
    {
      "cell_type": "markdown",
      "source": [
        "## Exemplo 06 - Laços de repetição"
      ],
      "metadata": {
        "id": "kA-RTrlpZq7k"
      }
    },
    {
      "cell_type": "code",
      "source": [
        "i = 0\n",
        "\n",
        "# variável simple - armazena apenas um valor\n",
        "# variável composta - armazena vários valores\n",
        "  # lista - mutáveis: [a,b,c,45,a,b,[ad]]\n",
        "  # tupla - imutáveis: (a,b,c,45,asd,asd,(asdcfsd))\n",
        "  # conjuntos - mutável mas sem repetição de valores {valor1,valor2,valor3,...}\n",
        "\n",
        "numero = [] #inicializar de uma variável composta do tipo lista\n",
        "\n",
        "while (i < 6):\n",
        "   print(f\"Estou indo de 0 até {i}\")\n",
        "   numero.append(i)\n",
        "\n",
        "   i = i + 1\n",
        "   print(f\"O valor da ista é {numero}\")\n",
        "   # aqui estou dentro da repetição\n",
        "\n",
        "#aqui estou fora\n",
        "\n",
        "print(f\"\\n\\n Vamos experimentar o FOR,\\n\\n\")\n",
        "\n",
        "for i in range (0,6):\n",
        "   print(f\"Estou indo de 0 até {i}\")\n",
        "   numero.append(i)\n",
        "\n",
        "   i = i + 1\n",
        "   print(f\"O valor da ista é {numero}\")\n",
        "   # aqui estou dentro da repetição\n",
        "\n",
        "print(f\"\\n\\n Vamos experimentar o FOR com strings,\\n\\n\")\n",
        "texto = \"aula de sexta feira\"\n",
        "\n",
        "for i in texto:\n",
        "  print(f\"o contador está com a letra {i}.\")"
      ],
      "metadata": {
        "colab": {
          "base_uri": "https://localhost:8080/"
        },
        "collapsed": true,
        "id": "4wXK_nWaamFx",
        "outputId": "80eac9b6-183d-4496-eb3e-1d30f073f392"
      },
      "execution_count": null,
      "outputs": [
        {
          "output_type": "stream",
          "name": "stdout",
          "text": [
            "Estou indo de 0 até 0\n",
            "O valor da ista é [0]\n",
            "Estou indo de 0 até 1\n",
            "O valor da ista é [0, 1]\n",
            "Estou indo de 0 até 2\n",
            "O valor da ista é [0, 1, 2]\n",
            "Estou indo de 0 até 3\n",
            "O valor da ista é [0, 1, 2, 3]\n",
            "Estou indo de 0 até 4\n",
            "O valor da ista é [0, 1, 2, 3, 4]\n",
            "Estou indo de 0 até 5\n",
            "O valor da ista é [0, 1, 2, 3, 4, 5]\n",
            "\n",
            "\n",
            " Vamos experimentar o FOR,\n",
            "\n",
            "\n",
            "Estou indo de 0 até 0\n",
            "O valor da ista é [0, 1, 2, 3, 4, 5, 0]\n",
            "Estou indo de 0 até 1\n",
            "O valor da ista é [0, 1, 2, 3, 4, 5, 0, 1]\n",
            "Estou indo de 0 até 2\n",
            "O valor da ista é [0, 1, 2, 3, 4, 5, 0, 1, 2]\n",
            "Estou indo de 0 até 3\n",
            "O valor da ista é [0, 1, 2, 3, 4, 5, 0, 1, 2, 3]\n",
            "Estou indo de 0 até 4\n",
            "O valor da ista é [0, 1, 2, 3, 4, 5, 0, 1, 2, 3, 4]\n",
            "Estou indo de 0 até 5\n",
            "O valor da ista é [0, 1, 2, 3, 4, 5, 0, 1, 2, 3, 4, 5]\n",
            "\n",
            "\n",
            " Vamos experimentar o FOR com strings,\n",
            "\n",
            "\n",
            "o contador está com a letra a.\n",
            "o contador está com a letra u.\n",
            "o contador está com a letra l.\n",
            "o contador está com a letra a.\n",
            "o contador está com a letra  .\n",
            "o contador está com a letra d.\n",
            "o contador está com a letra e.\n",
            "o contador está com a letra  .\n",
            "o contador está com a letra s.\n",
            "o contador está com a letra e.\n",
            "o contador está com a letra x.\n",
            "o contador está com a letra t.\n",
            "o contador está com a letra a.\n",
            "o contador está com a letra  .\n",
            "o contador está com a letra f.\n",
            "o contador está com a letra e.\n",
            "o contador está com a letra i.\n",
            "o contador está com a letra r.\n",
            "o contador está com a letra a.\n"
          ]
        }
      ]
    },
    {
      "cell_type": "markdown",
      "source": [
        "## Exercícios"
      ],
      "metadata": {
        "id": "X13v3WU74cVZ"
      }
    },
    {
      "cell_type": "markdown",
      "source": [
        "### Exercício 1"
      ],
      "metadata": {
        "id": "1aTlp27F4pNX"
      }
    },
    {
      "cell_type": "code",
      "source": [
        "print(\"Vamos calcular o volume da caixa!\")\n",
        "altura = float(input(\"Qual é a altura da caixa?: \"))\n",
        "largura = float(input(\"Qual é a largura da caixa?: \"))\n",
        "comprimento = float(input(\"Qual é o comprimento da caixa?:\"))\n",
        "\n",
        "volume = altura * largura * comprimento\n",
        "\n",
        "print(f\"O volume da caixa é: {volume}\")"
      ],
      "metadata": {
        "colab": {
          "base_uri": "https://localhost:8080/"
        },
        "id": "Z3eaFnu74v8z",
        "outputId": "58f7a282-eff5-4759-b854-88683b3b5ca2"
      },
      "execution_count": null,
      "outputs": [
        {
          "output_type": "stream",
          "name": "stdout",
          "text": [
            "Vamos calcular o volume da caixa!\n",
            "Qual é a altura da caixa?: 3\n",
            "Qual é a largura da caixa?: 3\n",
            "Qual é o comprimento da caixa?:3\n",
            "O volume da caixa é: 27.0\n"
          ]
        }
      ]
    },
    {
      "cell_type": "markdown",
      "source": [
        "### Exercício 2"
      ],
      "metadata": {
        "id": "qxUfFhGt6dbB"
      }
    },
    {
      "cell_type": "code",
      "source": [
        "def contar_palavras(texto):\n",
        "  palavras = texto.split()\n",
        "  return len(palavras)\n",
        "\n",
        "texto = input(\"Digite um texto: \")\n",
        "numero_palavras = contar_palavras(texto)\n",
        "print(f\"O texto tem {numero_palavras} palavras\")"
      ],
      "metadata": {
        "colab": {
          "base_uri": "https://localhost:8080/"
        },
        "id": "ej9Hf93_8Rrd",
        "outputId": "c9f08531-975a-4afa-9a44-78b108444f49"
      },
      "execution_count": null,
      "outputs": [
        {
          "output_type": "stream",
          "name": "stdout",
          "text": [
            "Digite um texto: o peito do pé do pedro é preto\n",
            "O texto tem 8 palavras\n"
          ]
        }
      ]
    },
    {
      "cell_type": "markdown",
      "source": [
        "### Exercício 3"
      ],
      "metadata": {
        "id": "wGJUHOMC7oxp"
      }
    },
    {
      "cell_type": "code",
      "source": [
        "def substituir_palavra(texto, palavra_antiga, palavra_nova):\n",
        "  return  texto.replace(palavra_antiga, palavra_nova)\n",
        "\n",
        "# Entrada do usuário\n",
        "texto = input(\"Digite um texto: \")\n",
        "palavra_antiga = input(\"Digite a palavra a ser substituída: \")\n",
        "palavra_nova = input(\"Digite a palavra nova: \")\n",
        "\n",
        "# Substituição e exibição do resultado\n",
        "texto_modificado = substituir_palavra(texto, palavra_antiga, palavra_nova)\n",
        "print(\"\\nTexto modificado: \")\n",
        "print(texto_modificado)"
      ],
      "metadata": {
        "colab": {
          "base_uri": "https://localhost:8080/"
        },
        "id": "38ByV4av7uVc",
        "outputId": "31c11062-3493-4bb7-a897-dc22813536ab"
      },
      "execution_count": null,
      "outputs": [
        {
          "output_type": "stream",
          "name": "stdout",
          "text": [
            "Digite um texto: ainda é tarde\n",
            "Digite a palavra a ser substituída: tarde\n",
            "Digite a palavra nova: cedo\n",
            "\n",
            "Texto modificado: \n",
            "ainda é cedo\n"
          ]
        }
      ]
    },
    {
      "cell_type": "markdown",
      "source": [
        "### Exercício 4"
      ],
      "metadata": {
        "id": "cHyPiay8_0Nb"
      }
    },
    {
      "cell_type": "code",
      "source": [
        "def separar_frases(texto):\n",
        "  frases = texto.split(\". \") #separa a frase  pelo ponto seguido de espaço\n",
        "  return frases\n",
        "\n",
        "# Entrada do usuário\n",
        "texto = input(\"Digite um texto com várias frases separadas por pontos: \")\n",
        "\n",
        "# Separar e exibir as frases\n",
        "frases = separar_frases(texto)\n",
        "\n",
        "print(\"\\nFrases encontradas:\")\n",
        "for i, frase in enumerate(frases, 1):\n",
        "  print(f\"{i}.{frase}\")"
      ],
      "metadata": {
        "colab": {
          "base_uri": "https://localhost:8080/"
        },
        "id": "7cLbAp8t_53z",
        "outputId": "b61c8437-084e-4644-dfa1-ac241970ac76"
      },
      "execution_count": null,
      "outputs": [
        {
          "output_type": "stream",
          "name": "stdout",
          "text": [
            "Digite um texto com várias frases separadas por pontos: Apenas uma guerra é permitida à espécie humana: a guerra contra a extinção. Se o conhecimento pode criar problemas, não é através da ignorância que podemos solucioná-los. Todas as religiões são a verdade sagrada para quem tem a fé mas não passam de fantasia para os fiéis das outras religiões.\n",
            "\n",
            "Frases encontradas:\n",
            "1.Apenas uma guerra é permitida à espécie humana: a guerra contra a extinção\n",
            "2.Se o conhecimento pode criar problemas, não é através da ignorância que podemos solucioná-los\n",
            "3.Todas as religiões são a verdade sagrada para quem tem a fé mas não passam de fantasia para os fiéis das outras religiões.\n"
          ]
        }
      ]
    },
    {
      "cell_type": "markdown",
      "source": [
        "### Exercício 5"
      ],
      "metadata": {
        "id": "jOIzwdNkDQ6u"
      }
    },
    {
      "cell_type": "code",
      "source": [
        "def ordenar_numeros(a, b, c):\n",
        "  return sorted([a, b, c]) # A função sorted() retorna uma lista ordenada\n",
        "\n",
        "# Entrada de dados do usuário\n",
        "a = int(input(\"Digite o valor de A: \"))\n",
        "b = int(input(\"Digite o valor de B: \"))\n",
        "c = int(input(\"Digite o valor de C: \"))\n",
        "\n",
        "# Ordenar e exibir os números\n",
        "numeros_ordenados = ordenar_numeros(a, b, c)\n",
        "print(\"\\nValores em ordem crescente:\",numeros_ordenados)"
      ],
      "metadata": {
        "colab": {
          "base_uri": "https://localhost:8080/"
        },
        "id": "7VsNs2K0DYVe",
        "outputId": "0ccad028-8fd1-4560-d9f9-19490f5404a3"
      },
      "execution_count": null,
      "outputs": [
        {
          "output_type": "stream",
          "name": "stdout",
          "text": [
            "Digite o valor de A: 35\n",
            "Digite o valor de B: 18\n",
            "Digite o valor de C: 190\n",
            "\n",
            "Valores em ordem crescente: [18, 35, 190]\n"
          ]
        }
      ]
    },
    {
      "cell_type": "markdown",
      "source": [
        "### Exercício 6"
      ],
      "metadata": {
        "id": "9AXyYad7UvO6"
      }
    },
    {
      "cell_type": "code",
      "source": [
        "def verificar_divisiveis(valores):\n",
        "  return [num for num in valores if num % 2 == 0 and num % 3 == 0]\n",
        "\n",
        "# Entrada de dados do usuário\n",
        "a = int(input(\"Digite o valor de A: \"))\n",
        "b = int(input(\"Digite o valor de B: \"))\n",
        "c = int(input(\"Digite o valor de C: \"))\n",
        "d = int(input(\"Digite o valor de D: \"))\n",
        "\n",
        "# Verificação dos números divisíveis por 2 e 3\n",
        "valores_divisiveis = verificar_divisiveis([a, b, c, d])\n",
        "\n",
        "# Exibir valores encontrados\n",
        "if valores_divisiveis:\n",
        "  print(\"\\nValores divisíveis por 2 e 3:\", valores_divisiveis)\n",
        "else:\n",
        "  print(\"\\nNenhum valor é divisível por 2 e 3.\")"
      ],
      "metadata": {
        "colab": {
          "base_uri": "https://localhost:8080/"
        },
        "id": "KJxH8mbPUy_A",
        "outputId": "c89eb854-4fc6-43c5-df42-bc8297640490"
      },
      "execution_count": null,
      "outputs": [
        {
          "output_type": "stream",
          "name": "stdout",
          "text": [
            "Digite o valor de A: 1\n",
            "Digite o valor de B: 3\n",
            "Digite o valor de C: 5\n",
            "Digite o valor de D: 11\n",
            "\n",
            "Nenhum valor é divisível por 2 e 3.\n"
          ]
        }
      ]
    },
    {
      "cell_type": "markdown",
      "source": [
        "### Exercício 7"
      ],
      "metadata": {
        "id": "bf5fhCV8YXNU"
      }
    },
    {
      "cell_type": "code",
      "source": [
        "def encontrar_divisiveis():\n",
        "  return [num for num in range(1,200) if num % 4 ==0]\n",
        "\n",
        "# Obtendo os números divisíveis por 4 e menores que 200\n",
        "numeros_divisiveis = encontrar_divisiveis()\n",
        "\n",
        "# Exibição dos números encontrados\n",
        "print(\"Números divisíveis por 4 e menores que 200: \")\n",
        "print(numeros_divisiveis)"
      ],
      "metadata": {
        "colab": {
          "base_uri": "https://localhost:8080/"
        },
        "id": "OUZsrRLAYcpd",
        "outputId": "22d6ad35-04d5-4e25-e537-ab5aba88b228"
      },
      "execution_count": null,
      "outputs": [
        {
          "output_type": "stream",
          "name": "stdout",
          "text": [
            "Números divisíveis por 4 e menores que 200: \n",
            "[4, 8, 12, 16, 20, 24, 28, 32, 36, 40, 44, 48, 52, 56, 60, 64, 68, 72, 76, 80, 84, 88, 92, 96, 100, 104, 108, 112, 116, 120, 124, 128, 132, 136, 140, 144, 148, 152, 156, 160, 164, 168, 172, 176, 180, 184, 188, 192, 196]\n"
          ]
        }
      ]
    }
  ]
}