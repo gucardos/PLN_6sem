{
  "nbformat": 4,
  "nbformat_minor": 0,
  "metadata": {
    "colab": {
      "provenance": [],
      "authorship_tag": "ABX9TyPu9GF2how+mA89iDv36hJ/",
      "include_colab_link": true
    },
    "kernelspec": {
      "name": "python3",
      "display_name": "Python 3"
    },
    "language_info": {
      "name": "python"
    }
  },
  "cells": [
    {
      "cell_type": "markdown",
      "metadata": {
        "id": "view-in-github",
        "colab_type": "text"
      },
      "source": [
        "<a href=\"https://colab.research.google.com/github/gucardos/PLN_6sem/blob/main/Aula_10_PLN.ipynb\" target=\"_parent\"><img src=\"https://colab.research.google.com/assets/colab-badge.svg\" alt=\"Open In Colab\"/></a>"
      ]
    },
    {
      "cell_type": "markdown",
      "source": [
        "# <b>Aula 10 - </b> Análise de sentimentos e classificação de textos em PLN"
      ],
      "metadata": {
        "id": "3tZ0B0w0ZoFO"
      }
    },
    {
      "cell_type": "markdown",
      "source": [
        "## Exemplos do roteiro"
      ],
      "metadata": {
        "id": "RIAkHN0GaUz7"
      }
    },
    {
      "cell_type": "markdown",
      "source": [
        "### <b>Exemplo 1-</b> Análise de sentimentos com a biblioteca NLTK.\n",
        "\n",
        "Desenvolvendo de um sistema para classificar automaticamente o sentimento de avaliações de filmes como \"positivo\" ou \"negativo\". Para isso é necessário ter um conjunto de dados com as avaliações rotuladas."
      ],
      "metadata": {
        "id": "ykELPHYfagTs"
      }
    },
    {
      "cell_type": "code",
      "execution_count": null,
      "metadata": {
        "colab": {
          "base_uri": "https://localhost:8080/"
        },
        "id": "qANs2BkxZhoa",
        "outputId": "da916245-4c18-4ba2-cf90-767fcd715faa"
      },
      "outputs": [
        {
          "output_type": "stream",
          "name": "stderr",
          "text": [
            "[nltk_data] Downloading package vader_lexicon to /root/nltk_data...\n",
            "[nltk_data] Downloading package punkt to /root/nltk_data...\n",
            "[nltk_data]   Unzipping tokenizers/punkt.zip.\n"
          ]
        },
        {
          "output_type": "execute_result",
          "data": {
            "text/plain": [
              "True"
            ]
          },
          "metadata": {},
          "execution_count": 1
        }
      ],
      "source": [
        "# Primeira etapa - Importação das bibliotecas e corpus para realizar as análises\n",
        "import nltk\n",
        "from nltk.sentiment.vader import SentimentIntensityAnalyzer\n",
        "\n",
        "# certifique-se de baixar os recursos necessários do nltk\n",
        "nltk.download('vader_lexicon')\n",
        "nltk.download('punkt')"
      ]
    },
    {
      "cell_type": "code",
      "source": [
        "# Segunda etapa - Inicialização do objeto que realiza a análise e o texto a ser analisado\n",
        "\n",
        "# inicializando o analisador de sentimentos\n",
        "sid = SentimentIntensityAnalyzer()\n",
        "\n",
        "# definindo os textos de exemplo para treinar o modelo\n",
        "textos = [\n",
        "    \"Este filme é incrivel! Eu adorei cada minuto.\",\n",
        "    \"Odiei este filme. Foi uma perda de tempo.\",\n",
        "    \"O filme foi ok, nada de especial.\",\n",
        "    \"Estou muito feliz com o produto, funciona perfeitamente.\",\n",
        "    \"Que serviço horrível! Nunca mais compro nessa loja.\"\n",
        "]"
      ],
      "metadata": {
        "id": "BIZW6FZtbse6"
      },
      "execution_count": null,
      "outputs": []
    },
    {
      "cell_type": "code",
      "source": [
        "# Terceira etapa - Analisando o sentimento dos textos fornecidos\n",
        "\n",
        "# Analisando o sentimento dos textos\n",
        "for texto in textos:\n",
        "  print(f\"Texto: {texto}\")\n",
        "  ss = sid.polarity_scores(texto)\n",
        "  print(f\"Pontuação: {ss}\")\n",
        "  if ss['compound'] >= 0.05:\n",
        "    print(\"Sentimento: positivo\")\n",
        "  elif ss['compound'] <= -0.05:\n",
        "    print(\"Sentimento: negativo\")\n",
        "  else:\n",
        "    print(\"Sentimento: neutro\")\n",
        "  print(\"\\n\")"
      ],
      "metadata": {
        "colab": {
          "base_uri": "https://localhost:8080/"
        },
        "id": "08wCfDkDfWDR",
        "outputId": "ca90a158-0201-4489-ad42-869921b8d369"
      },
      "execution_count": null,
      "outputs": [
        {
          "output_type": "stream",
          "name": "stdout",
          "text": [
            "Texto: Este filme é incrivel! Eu adorei cada minuto.\n",
            "Pontuação: {'neg': 0.0, 'neu': 1.0, 'pos': 0.0, 'compound': 0.0}\n",
            "Sentimento: neutro\n",
            "\n",
            "\n",
            "Texto: Odiei este filme. Foi uma perda de tempo.\n",
            "Pontuação: {'neg': 0.0, 'neu': 1.0, 'pos': 0.0, 'compound': 0.0}\n",
            "Sentimento: neutro\n",
            "\n",
            "\n",
            "Texto: O filme foi ok, nada de especial.\n",
            "Pontuação: {'neg': 0.0, 'neu': 0.694, 'pos': 0.306, 'compound': 0.296}\n",
            "Sentimento: positivo\n",
            "\n",
            "\n",
            "Texto: Estou muito feliz com o produto, funciona perfeitamente.\n",
            "Pontuação: {'neg': 0.0, 'neu': 1.0, 'pos': 0.0, 'compound': 0.0}\n",
            "Sentimento: neutro\n",
            "\n",
            "\n",
            "Texto: Que serviço horrível! Nunca mais compro nessa loja.\n",
            "Pontuação: {'neg': 0.0, 'neu': 1.0, 'pos': 0.0, 'compound': 0.0}\n",
            "Sentimento: neutro\n",
            "\n",
            "\n"
          ]
        }
      ]
    },
    {
      "cell_type": "markdown",
      "source": [
        "### <b>Exemplo 2-</b> Análise de sentimentos de avaliações de filmes com Naives Bayes"
      ],
      "metadata": {
        "id": "DVfgpQXGg1zT"
      }
    },
    {
      "cell_type": "code",
      "source": [
        "# Primeira etapa - Criação de funções que calculam a quantidade de palavras, e as probabilidades.\n",
        "import numpy as np\n",
        "\n",
        "def contar_palavras(avaliacoes, sentimento):\n",
        "  \"\"\"Conta a frequência de cada palavra em avaliações de um dado sentimento.\"\"\"\n",
        "  contagem = {}\n",
        "  for avaliacao, sent in avaliacoes:\n",
        "    if sent == sentimento:\n",
        "      for palavra in avaliacao.lower().split():\n",
        "        if palavra in contagem:\n",
        "          contagem[palavra] += 1\n",
        "        else:\n",
        "          contagem[palavra] = 1\n",
        "  return contagem\n",
        "\n",
        "def calcular_probabilidade_sentimento(avaliacoes, sentimento):\n",
        "  \"\"\"Calcula a probabilidade de uma avaliação ser de um dado sentimento.\"\"\"\n",
        "  total_avaliacoes = len(avaliacoes)\n",
        "  contagem_sentimento = sum(1 for _, sent in avaliacoes if sent == sentimento)\n",
        "  return contagem_sentimento / total_avaliacoes\n",
        "\n",
        "def calcular_probabilidade_palavra_dado_sentimento(palavra, contagem_palavras, total_palavras_sentimento, total_palavras_vocabulario, alpha=1):\n",
        "  \"\"\"Calcula a probabilidade de uma palavra dado um sentimento (com suavização de Laplace).\"\"\"\n",
        "  contagem_palavra = contagem_palavras.get(palavra, 0)\n",
        "  return (contagem_palavra + alpha) / (total_palavras_sentimento + alpha * total_palavras_vocabulario)"
      ],
      "metadata": {
        "id": "vxG5t8plhO6v"
      },
      "execution_count": null,
      "outputs": []
    },
    {
      "cell_type": "code",
      "source": [
        "# Segunda etapa - Criação da função que calcula a classificação da palavra pertencer a um sentimento.\n",
        "def classificar_avaliacao(avaliacao, avaliacoes):\n",
        "  \"\"\"Classifica o sentimento de uma nova avaliação usando Naive Bayes.\"\"\"\n",
        "\n",
        "  sentimentos = ['positivo', 'negativo']\n",
        "  probabilidades_sentimento = {}\n",
        "\n",
        "  # Calcular probabilidades a priori dos sentimentos\n",
        "  probabilidades_sentimento['positivo'] = calcular_probabilidade_sentimento(avaliacoes, 'positivo')\n",
        "  probabilidades_sentimento['negativo'] = calcular_probabilidade_sentimento(avaliacoes, 'negativo')\n",
        "\n",
        "  # Contar palavras em cada sentimento\n",
        "  contagem_palavras_positivo = contar_palavras(avaliacoes, 'positivo')\n",
        "  contagem_palavras_negativo = contar_palavras(avaliacoes, 'negativo')\n",
        "\n",
        "  # Calcular total de palavras em cada sentimento\n",
        "  total_palavras_positivo = sum(contagem_palavras_positivo.values())\n",
        "  total_palavras_negativo = sum(contagem_palavras_negativo.values())\n",
        "\n",
        "  # Calcular tamanho do vocabulário\n",
        "  vocabulario = set()\n",
        "  for avaliacao, _ in avaliacoes:\n",
        "    for palavra in avaliacao.lower().split():\n",
        "      vocabulario.add(palavra)\n",
        "  total_palavras_vocabulario = len(vocabulario)\n",
        "\n",
        "  # Calcular probabilidades para cada sentimento\n",
        "  for sentimento in sentimentos:\n",
        "    probabilidade_total = probabilidades_sentimento[sentimento]\n",
        "    contagem_palavras_sentimento = contagem_palavras_positivo if sentimento == 'positivo' else contagem_palavras_negativo\n",
        "    total_palavras_sentimento = total_palavras_positivo if sentimento == 'positivo' else total_palavras_negativo\n",
        "\n",
        "    for palavra in avaliacao.lower().split():\n",
        "      probabilidade_palavra = calcular_probabilidade_palavra_dado_sentimento(\n",
        "          palavra, contagem_palavras_sentimento, total_palavras_sentimento, total_palavras_vocabulario\n",
        "      )\n",
        "      probabilidade_total *= probabilidade_palavra\n",
        "\n",
        "    probabilidades_sentimento[sentimento] = probabilidade_total\n",
        "\n",
        "  # Classificar com base na maior probabilidade\n",
        "  melhor_sentimento = max(probabilidades_sentimento, key=probabilidades_sentimento.get)\n",
        "  return melhor_sentimento"
      ],
      "metadata": {
        "id": "gFna2UnAlVi4"
      },
      "execution_count": null,
      "outputs": []
    },
    {
      "cell_type": "code",
      "source": [
        "# Terceira etapa - Fornecimento de um modelo para treinamento\n",
        "\n",
        "avaliacoes = [\n",
        "    (\"Filme incrível! Adorei a atuação.\", \"Positivo\"),\n",
        "    (\"Roteiro fraco, não recomendo.\", \"Negativo\"),\n",
        "    (\"Atuação boa, mas filme longo.\", \"Positivo\"),\n",
        "    (\"Péssimo! Perdi meu tempo.\", \"Negativo\"),\n",
        "]"
      ],
      "metadata": {
        "id": "_2LYXdKNpFRX"
      },
      "execution_count": null,
      "outputs": []
    },
    {
      "cell_type": "code",
      "source": [
        "# Quarta etapa - Fornecendo uma frase para ser avaliada\n",
        "\n",
        "# Nova avaliação a ser classificada\n",
        "nova_avaliacao = input(\"O que você achou do filme 101 dalmatas?\")\n",
        "\n",
        "# Classificar a nova avaliação\n",
        "sentimento = classificar_avaliacao(nova_avaliacao, avaliacoes)\n",
        "\n",
        "# Exibir o resultado\n",
        "print(f\"A avaliação '{nova_avaliacao}' foi classificada como: {sentimento}\")"
      ],
      "metadata": {
        "colab": {
          "base_uri": "https://localhost:8080/"
        },
        "id": "wIwXGd9-pUvu",
        "outputId": "b7b84dd9-0cc1-4aa1-f0f3-2d1c3ada4616"
      },
      "execution_count": null,
      "outputs": [
        {
          "output_type": "stream",
          "name": "stdout",
          "text": [
            "O que você achou do filme 101 dalmatas?fraco\n",
            "A avaliação 'fraco' foi classificada como: positivo\n"
          ]
        }
      ]
    },
    {
      "cell_type": "code",
      "source": [
        "# Quinta etapa - Treine com um novo modelo de dados\n",
        "avaliacoes = [\n",
        "    (\"Filme incrível! Adorei a atuação, roteiro e direção.\", \"Positivo\"),\n",
        "    (\"Roteiro fraco, atuação ruim, não recomendo. Perda de tempo.\", \"Negativo\"),\n",
        "    (\"Atuação boa, mas filme um pouco longo e arrastado.\", \"Positivo\"),\n",
        "    (\"Péssimo! Perdi meu tempo, dinheiro e paciência. Horrível.\", \"Negativo\"),\n",
        "    (\"Amei! Elenco maravilhoso, fotografia impecável. Recomendo muito!\", \"Positivo\"),\n",
        "    (\"Chato, previsível e sem graça. Saí no meio do filme.\", \"Negativo\"),\n",
        "    (\"Uma obra-prima! Roteiro inteligente, atuações memoráveis.\", \"Positivo\"),\n",
        "    (\"Cansativo, atuações forçadas, final decepcionante.\", \"Negativo\"),\n",
        "    (\"Divertido e emocionante! Ótimo para assistir com a família.\", \"Positivo\"),\n",
        "    (\"Clichê, sem originalidade, diálogos fracos. Não vale a pena.\", \"Negativo\"),\n",
        "    (\"Surpreendente e envolvente! Me prendeu do início ao fim.\", \"Positivo\"),\n",
        "    (\"Confuso, mal dirigido, edição amadora. Um desastre.\", \"Negativo\"),\n",
        "    (\"Atuação excelente, história cativante, trilha sonora perfeita.\", \"Positivo\"),\n",
        "    (\"Atuações medianas, história arrastada, trilha sonora irritante.\", \"Negativo\"),\n",
        "    (\"Roteiro bem construído, diálogos afiados, direção impecável.\", \"Positivo\"),\n",
        "    (\"Roteiro fraco, diálogos bobos, direção perdida.\", \"Negativo\"),\n",
        "    (\"Uma experiência cinematográfica única! Recomendo a todos os amantes do cinema.\", \"Positivo\"),\n",
        "    (\"Um filme esquecível, sem emoção e sem impacto.\", \"Negativo\"),\n",
        "    (\"Comovente e inspirador! Me fez refletir sobre a vida.\", \"Positivo\"),\n",
        "    (\"Decepcionante e frustrante! Não recomendo nem para passar o tempo.\", \"Negativo\"),\n",
        "    (\"Ótimo, gostei muito\",'Positivo')\n",
        "]\n"
      ],
      "metadata": {
        "id": "ZAVaL_UFrVMH"
      },
      "execution_count": null,
      "outputs": []
    }
  ]
}